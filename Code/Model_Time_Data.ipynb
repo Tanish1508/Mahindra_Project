{
  "cells": [
    {
      "cell_type": "code",
      "execution_count": 1,
      "metadata": {
        "colab": {
          "base_uri": "https://localhost:8080/"
        },
        "id": "tFSSzr7ayZnH",
        "outputId": "f51af564-67b8-43d0-f41c-5d597617b0c0"
      },
      "outputs": [],
      "source": [
        "import warnings\n",
        "import numpy as np\n",
        "import pandas as pd\n",
        "import matplotlib.pyplot as plt\n",
        "from keras import optimizers\n",
        "from keras.utils import plot_model\n",
        "from keras.models import Sequential, Model\n",
        "from keras.layers.convolutional import Conv1D, MaxPooling1D\n",
        "from keras.layers import Dense, LSTM, RepeatVector, TimeDistributed, Flatten\n",
        "from sklearn.metrics import mean_squared_error\n",
        "from sklearn.model_selection import train_test_split\n",
        "import tensorflow as tf\n",
        "\n",
        "%matplotlib inline\n",
        "warnings.filterwarnings(\"ignore\")\n",
        "\n",
        "# Set seeds to make the experiment more reproducible.\n",
        "# import tensorflow as tf\n",
        "# tf.random.set_seed() \n",
        "# from numpy.random import seed\n",
        "# seed(1)"
      ]
    },
    {
      "cell_type": "code",
      "execution_count": 2,
      "metadata": {
        "id": "2ZvEiP-XDXac"
      },
      "outputs": [],
      "source": [
        "from tensorflow.keras import Sequential\n",
        "from tensorflow.keras.layers import LSTM, Dense, Dropout, TimeDistributed, Conv1D, MaxPooling1D, Flatten, Bidirectional, Input, Flatten, Activation, Reshape, RepeatVector, Concatenate\n",
        "from tensorflow.keras.models import Model\n",
        "from tensorflow.keras.utils import plot_model\n",
        "from tensorflow.keras.callbacks import EarlyStopping, ReduceLROnPlateau, ModelCheckpoint"
      ]
    },
    {
      "cell_type": "code",
      "execution_count": 3,
      "metadata": {
        "colab": {
          "base_uri": "https://localhost:8080/"
        },
        "id": "p39IOfle1Eok",
        "outputId": "64ee5611-b6c2-43ce-a767-16a57abd2c56"
      },
      "outputs": [],
      "source": [
        "# from google.colab import drive\n",
        "# drive.mount('/content/drive')"
      ]
    },
    {
      "cell_type": "code",
      "execution_count": 3,
      "metadata": {
        "id": "Ov4yFocwycv-"
      },
      "outputs": [],
      "source": [
        "train = pd.read_csv('train_time_data_new.csv') \n",
        "test = pd.read_csv('test_time_data_new.csv')\n",
        "# train, test"
      ]
    },
    {
      "cell_type": "code",
      "execution_count": 4,
      "metadata": {
        "id": "0xkTheyHeqga"
      },
      "outputs": [],
      "source": [
        "train.drop(columns=['Stop_Time'], inplace=True)\n",
        "test.drop(columns=['Stop_Time'], inplace=True)"
      ]
    },
    {
      "cell_type": "code",
      "execution_count": 5,
      "metadata": {
        "id": "7MEgLGGPB61L"
      },
      "outputs": [],
      "source": [
        "l1 = ['Time_Since_Shift_Start','Time_Since_Morning','Station_Name_1-Stop_Reason_1-Remark_1',\n",
        " 'Station_Name_1-Stop_Reason_3-Remark_12',\n",
        " 'Station_Name_1-Stop_Reason_3-Remark_8',\n",
        " 'Station_Name_10-Stop_Reason_4-Remark_4',\n",
        " 'Station_Name_2-Stop_Reason_2-Remark_2',\n",
        " 'Station_Name_3-Stop_Reason_3-Remark_10',\n",
        " 'Station_Name_3-Stop_Reason_3-Remark_3',\n",
        " 'Station_Name_3-Stop_Reason_3-Remark_6',\n",
        " 'Station_Name_3-Stop_Reason_3-Remark_7',\n",
        " 'Station_Name_3-Stop_Reason_4-Remark_4',\n",
        " 'Station_Name_4-Stop_Reason_3-Remark_5',\n",
        " 'Station_Name_4-Stop_Reason_4-Remark_4',\n",
        " 'Station_Name_5-Stop_Reason_4-Remark_4',\n",
        " 'Station_Name_6-Stop_Reason_3-Remark_13',\n",
        " 'Station_Name_6-Stop_Reason_3-Remark_15',\n",
        " 'Station_Name_6-Stop_Reason_4-Remark_4',\n",
        " 'Station_Name_7-Stop_Reason_3-Remark_14',\n",
        " 'Station_Name_7-Stop_Reason_3-Remark_9',\n",
        " 'Station_Name_7-Stop_Reason_4-Remark_4',\n",
        " 'Station_Name_8-Stop_Reason_3-Remark_11',\n",
        " 'Station_Name_8-Stop_Reason_4-Remark_4',\n",
        " 'Station_Name_9-Stop_Reason_4-Remark_4']"
      ]
    },
    {
      "cell_type": "code",
      "execution_count": 6,
      "metadata": {
        "id": "Kclkg2x-hgMe"
      },
      "outputs": [],
      "source": [
        "# train.drop(columns = ['index'],inplace=True)"
      ]
    },
    {
      "cell_type": "code",
      "execution_count": 5,
      "metadata": {
        "id": "w1QR9QZVCWgf"
      },
      "outputs": [],
      "source": [
        "from sklearn.preprocessing import MinMaxScaler\n",
        "cpu_list = [i for i in train.columns if i != 'Stop_Time']\n",
        "scaler = MinMaxScaler()\n",
        "scaled_train = scaler.fit_transform(train[cpu_list])\n",
        "scaled_test = scaler.transform(test[cpu_list])"
      ]
    },
    {
      "cell_type": "code",
      "execution_count": 6,
      "metadata": {
        "id": "VqpWXFDuCjpq"
      },
      "outputs": [],
      "source": [
        "def split_sequence(sequence, look_back, forecast_horizon):\n",
        " X, y = list(), list()\n",
        " for i in range(len(sequence)): \n",
        "   lag_end = i + look_back\n",
        "   forecast_end = lag_end + forecast_horizon\n",
        "   if forecast_end > len(sequence):\n",
        "     break\n",
        "   seq_x, seq_y = sequence[i:lag_end], sequence[lag_end:forecast_end]\n",
        "   X.append(seq_x)\n",
        "   y.append(seq_y)\n",
        " return np.array(X), np.array(y)"
      ]
    },
    {
      "cell_type": "code",
      "execution_count": 20,
      "metadata": {},
      "outputs": [
        {
          "ename": "NameError",
          "evalue": "name 'X' is not defined",
          "output_type": "error",
          "traceback": [
            "\u001b[1;31m---------------------------------------------------------------------------\u001b[0m",
            "\u001b[1;31mNameError\u001b[0m                                 Traceback (most recent call last)",
            "\u001b[1;32m<ipython-input-20-b5fec669aca1>\u001b[0m in \u001b[0;36m<module>\u001b[1;34m\u001b[0m\n\u001b[1;32m----> 1\u001b[1;33m \u001b[0mX\u001b[0m\u001b[1;33m\u001b[0m\u001b[1;33m\u001b[0m\u001b[0m\n\u001b[0m",
            "\u001b[1;31mNameError\u001b[0m: name 'X' is not defined"
          ]
        }
      ],
      "source": [
        "X"
      ]
    },
    {
      "cell_type": "code",
      "execution_count": 9,
      "metadata": {
        "id": "mZAb0ymHp4lm"
      },
      "outputs": [],
      "source": [
        "LOOK_BACK = 24    \n",
        "FORECAST_RANGE = 4"
      ]
    },
    {
      "cell_type": "code",
      "execution_count": 10,
      "metadata": {
        "colab": {
          "base_uri": "https://localhost:8080/"
        },
        "id": "PIGWDAtBCpQA",
        "outputId": "7d9f66b0-00f5-4c51-85a6-996bd4834f51"
      },
      "outputs": [
        {
          "name": "stdout",
          "output_type": "stream",
          "text": [
            "(5331, 24, 30)\n",
            "(5331, 4, 30)\n",
            "(2758, 24, 30)\n",
            "(2758, 4, 30)\n"
          ]
        }
      ],
      "source": [
        "\n",
        "n_features = len(cpu_list)\n",
        "X_train, y_train = split_sequence(scaled_train, look_back=LOOK_BACK, forecast_horizon=FORECAST_RANGE)\n",
        "X_test, y_test = split_sequence(scaled_test, look_back=LOOK_BACK, forecast_horizon=FORECAST_RANGE)\n",
        "print(X_train.shape)\n",
        "print(y_train.shape)\n",
        "print(X_test.shape)\n",
        "print(y_test.shape)"
      ]
    },
    {
      "cell_type": "code",
      "execution_count": 11,
      "metadata": {
        "id": "r89kD0KNDKdv"
      },
      "outputs": [],
      "source": [
        "checkpoint_filepath = 'path_to_checkpoint_filepath'\n",
        "checkpoint_callback = ModelCheckpoint(\n",
        " filepath=checkpoint_filepath,\n",
        " save_weights_only=False,\n",
        " monitor='val_loss',\n",
        " mode='min',\n",
        " save_best_only=True)\n",
        "early_stopping_callback = EarlyStopping(\n",
        " monitor=\"val_loss\",\n",
        " min_delta=0.005,\n",
        " patience=10,\n",
        " mode=\"min\"\n",
        ")\n",
        "rlrop_callback = ReduceLROnPlateau(monitor='val_loss', factor=0.2, mode='min', patience=3, min_lr=0.001)"
      ]
    },
    {
      "cell_type": "code",
      "execution_count": 14,
      "metadata": {
        "id": "-Nk1QgUyDPVE"
      },
      "outputs": [],
      "source": [
        "def inverse_transform(y_test, yhat):\n",
        " y_test_reshaped = y_test.reshape(-1, y_test.shape[-1])\n",
        " yhat_reshaped = yhat.reshape(-1, yhat.shape[-1])\n",
        " yhat_inverse = scaler.inverse_transform(yhat_reshaped) \n",
        " y_test_inverse = scaler.inverse_transform(y_test_reshaped)\n",
        " return yhat_inverse, y_test_inverse"
      ]
    },
    {
      "cell_type": "code",
      "execution_count": 15,
      "metadata": {
        "id": "m4QkPBQJDUqp"
      },
      "outputs": [],
      "source": [
        "def evaluate_forecast(y_test_inverse, yhat_inverse):\n",
        " mse_ = tf.keras.losses.MeanSquaredError()\n",
        " mae_ = tf.keras.losses.MeanAbsoluteError()\n",
        " mape_ = tf.keras.losses.MeanAbsolutePercentageError()\n",
        " mae = mae_(y_test_inverse,yhat_inverse)\n",
        " print('mae:', mae)\n",
        " mse = mse_(y_test_inverse,yhat_inverse)\n",
        " print('mse:', mse)\n",
        " mape = mape_(y_test_inverse,yhat_inverse)\n",
        " print('mape:', mape)"
      ]
    },
    {
      "cell_type": "code",
      "execution_count": 14,
      "metadata": {
        "id": "fUwMe_61Dhhj"
      },
      "outputs": [],
      "source": [
        "epochs = 50\n",
        "batch_size = 32\n",
        "validation = 0.1"
      ]
    },
    {
      "cell_type": "code",
      "execution_count": 22,
      "metadata": {},
      "outputs": [],
      "source": [
        "# input_layer = Input(shape=(LOOK_BACK, n_features)) \n",
        "# head_list = []\n",
        "# for i in range(0, n_features):\n",
        "#  conv_layer_head = Conv1D(filters=4, kernel_size=7, activation='relu')(input_layer)\n",
        "#  conv_layer_head_2 = Conv1D(filters=6, kernel_size=11, activation='relu')(conv_layer_head)\n",
        "#  conv_layer_flatten = Flatten()(conv_layer_head_2)\n",
        "#  head_list.append(conv_layer_flatten)\n",
        " \n",
        "# concat_cnn = Concatenate(axis=1)(head_list)\n",
        "# reshape = Reshape((head_list[0].shape[1], n_features))(concat_cnn)\n",
        "# lstm = LSTM(100, activation='tanh')(reshape)\n",
        "# repeat = RepeatVector(FORECAST_RANGE)(lstm)\n",
        "# # lstm_2 = LSTM(100, activation='tanh', return_sequences=True)(repeat)\n",
        "# # dropout = Dropout(0.2)(lstm_2)\n",
        "# dense = Dense(n_features, activation='linear')(dropout)\n",
        "# multi_head_cnn_lstm_model = Model(inputs=input_layer, outputs=dense)\n",
        "# multi_head_cnn_lstm_model.compile(optimizer='adam', loss='mse', metrics=['mse'])"
      ]
    },
    {
      "cell_type": "code",
      "execution_count": 24,
      "metadata": {
        "id": "HpgGZWaBDhZc"
      },
      "outputs": [],
      "source": [
        "input_layer = Input(shape=(LOOK_BACK, n_features)) \n",
        "head_list = []\n",
        "for i in range(0, n_features):\n",
        " conv_layer_head = Conv1D(filters=64, kernel_size=1, activation='relu')(input_layer)\n",
        "#  conv_layer_head_2 = Conv1D(filters=64, kernel_size=1, activation='relu')(conv_layer_head)\n",
        " conv_layer_flatten = Flatten()(conv_layer_head)#(conv_layer_head_2)\n",
        " head_list.append(conv_layer_flatten)   \n",
        "\n",
        "#add pooling layer\n",
        "# pool_layer = MaxPooling1D(pool_size=2)(input_layer)\n",
        " \n",
        "concat_cnn = Concatenate(axis=1)(head_list)\n",
        "reshape = Reshape((head_list[0].shape[1], n_features))(concat_cnn)\n",
        "lstm = LSTM(100, activation='tanh')(reshape)\n",
        "repeat = RepeatVector(FORECAST_RANGE)(lstm)\n",
        "lstm_2 = LSTM(100, activation='tanh', return_sequences=True)(repeat)\n",
        "dropout = Dropout(0.2)(lstm_2)\n",
        "dense = Dense(n_features, activation='linear')(dropout)\n",
        "multi_head_cnn_lstm_model = Model(inputs=input_layer, outputs=dense)\n",
        "multi_head_cnn_lstm_model.compile(optimizer='adam', loss='mse', metrics=['mse'])"
      ]
    },
    {
      "cell_type": "code",
      "execution_count": null,
      "metadata": {},
      "outputs": [],
      "source": [
        "#"
      ]
    },
    {
      "cell_type": "code",
      "execution_count": 25,
      "metadata": {
        "colab": {
          "base_uri": "https://localhost:8080/"
        },
        "id": "31z6GjSxDhQq",
        "outputId": "68ed60c6-a625-4543-aa94-63c22618daa9"
      },
      "outputs": [
        {
          "name": "stdout",
          "output_type": "stream",
          "text": [
            "Epoch 1/50\n",
            "186/186 [==============================] - ETA: 0s - loss: 0.0127 - mse: 0.0127"
          ]
        },
        {
          "ename": "KeyboardInterrupt",
          "evalue": "",
          "output_type": "error",
          "traceback": [
            "\u001b[1;31m---------------------------------------------------------------------------\u001b[0m",
            "\u001b[1;31mKeyError\u001b[0m                                  Traceback (most recent call last)",
            "\u001b[1;32m~\\AppData\\Roaming\\Python\\Python39\\site-packages\\tensorflow\\python\\framework\\ops.py\u001b[0m in \u001b[0;36m_get_op_def\u001b[1;34m(self, type)\u001b[0m\n\u001b[0;32m   4200\u001b[0m     \u001b[1;32mtry\u001b[0m\u001b[1;33m:\u001b[0m\u001b[1;33m\u001b[0m\u001b[1;33m\u001b[0m\u001b[0m\n\u001b[1;32m-> 4201\u001b[1;33m       \u001b[1;32mreturn\u001b[0m \u001b[0mself\u001b[0m\u001b[1;33m.\u001b[0m\u001b[0m_op_def_cache\u001b[0m\u001b[1;33m[\u001b[0m\u001b[0mtype\u001b[0m\u001b[1;33m]\u001b[0m\u001b[1;33m\u001b[0m\u001b[1;33m\u001b[0m\u001b[0m\n\u001b[0m\u001b[0;32m   4202\u001b[0m     \u001b[1;32mexcept\u001b[0m \u001b[0mKeyError\u001b[0m\u001b[1;33m:\u001b[0m\u001b[1;33m\u001b[0m\u001b[1;33m\u001b[0m\u001b[0m\n",
            "\u001b[1;31mKeyError\u001b[0m: 'Placeholder'",
            "\nDuring handling of the above exception, another exception occurred:\n",
            "\u001b[1;31mKeyboardInterrupt\u001b[0m                         Traceback (most recent call last)",
            "\u001b[1;32m<ipython-input-25-59c088532fd8>\u001b[0m in \u001b[0;36m<module>\u001b[1;34m\u001b[0m\n\u001b[0;32m      1\u001b[0m \u001b[0mplot_model\u001b[0m\u001b[1;33m(\u001b[0m\u001b[0mmodel\u001b[0m\u001b[1;33m=\u001b[0m\u001b[0mmulti_head_cnn_lstm_model\u001b[0m\u001b[1;33m,\u001b[0m \u001b[0mshow_shapes\u001b[0m\u001b[1;33m=\u001b[0m\u001b[1;32mTrue\u001b[0m\u001b[1;33m)\u001b[0m\u001b[1;33m\u001b[0m\u001b[1;33m\u001b[0m\u001b[0m\n\u001b[1;32m----> 2\u001b[1;33m \u001b[0mhistory\u001b[0m \u001b[1;33m=\u001b[0m \u001b[0mmulti_head_cnn_lstm_model\u001b[0m\u001b[1;33m.\u001b[0m\u001b[0mfit\u001b[0m\u001b[1;33m(\u001b[0m\u001b[0mX_train\u001b[0m\u001b[1;33m,\u001b[0m \u001b[0my_train\u001b[0m\u001b[1;33m,\u001b[0m \u001b[0mepochs\u001b[0m\u001b[1;33m=\u001b[0m\u001b[0mepochs\u001b[0m\u001b[1;33m,\u001b[0m \u001b[0mbatch_size\u001b[0m\u001b[1;33m=\u001b[0m\u001b[0mbatch_size\u001b[0m\u001b[1;33m,\u001b[0m \u001b[0mvalidation_split\u001b[0m\u001b[1;33m=\u001b[0m\u001b[0mvalidation\u001b[0m\u001b[1;33m,\u001b[0m\u001b[0mcallbacks\u001b[0m\u001b[1;33m=\u001b[0m\u001b[1;33m[\u001b[0m\u001b[0mearly_stopping_callback\u001b[0m\u001b[1;33m,\u001b[0m \u001b[0mcheckpoint_callback\u001b[0m\u001b[1;33m,\u001b[0m \u001b[0mrlrop_callback\u001b[0m\u001b[1;33m]\u001b[0m\u001b[1;33m)\u001b[0m\u001b[1;33m\u001b[0m\u001b[1;33m\u001b[0m\u001b[0m\n\u001b[0m\u001b[0;32m      3\u001b[0m \u001b[0myhat\u001b[0m \u001b[1;33m=\u001b[0m \u001b[0mmulti_head_cnn_lstm_model\u001b[0m\u001b[1;33m.\u001b[0m\u001b[0mpredict\u001b[0m\u001b[1;33m(\u001b[0m\u001b[0mX_test\u001b[0m\u001b[1;33m,\u001b[0m \u001b[0mverbose\u001b[0m\u001b[1;33m=\u001b[0m\u001b[1;36m0\u001b[0m\u001b[1;33m)\u001b[0m\u001b[1;33m\u001b[0m\u001b[1;33m\u001b[0m\u001b[0m\n\u001b[0;32m      4\u001b[0m \u001b[0myhat_inverse\u001b[0m\u001b[1;33m,\u001b[0m \u001b[0my_test_inverse\u001b[0m \u001b[1;33m=\u001b[0m \u001b[0minverse_transform\u001b[0m\u001b[1;33m(\u001b[0m\u001b[0my_test\u001b[0m\u001b[1;33m,\u001b[0m \u001b[0myhat\u001b[0m\u001b[1;33m)\u001b[0m\u001b[1;33m\u001b[0m\u001b[1;33m\u001b[0m\u001b[0m\n\u001b[0;32m      5\u001b[0m \u001b[0mevaluate_forecast\u001b[0m\u001b[1;33m(\u001b[0m\u001b[0my_test_inverse\u001b[0m\u001b[1;33m,\u001b[0m \u001b[0myhat_inverse\u001b[0m\u001b[1;33m)\u001b[0m\u001b[1;33m\u001b[0m\u001b[1;33m\u001b[0m\u001b[0m\n",
            "\u001b[1;32m~\\AppData\\Roaming\\Python\\Python39\\site-packages\\keras\\utils\\traceback_utils.py\u001b[0m in \u001b[0;36merror_handler\u001b[1;34m(*args, **kwargs)\u001b[0m\n\u001b[0;32m     63\u001b[0m         \u001b[0mfiltered_tb\u001b[0m \u001b[1;33m=\u001b[0m \u001b[1;32mNone\u001b[0m\u001b[1;33m\u001b[0m\u001b[1;33m\u001b[0m\u001b[0m\n\u001b[0;32m     64\u001b[0m         \u001b[1;32mtry\u001b[0m\u001b[1;33m:\u001b[0m\u001b[1;33m\u001b[0m\u001b[1;33m\u001b[0m\u001b[0m\n\u001b[1;32m---> 65\u001b[1;33m             \u001b[1;32mreturn\u001b[0m \u001b[0mfn\u001b[0m\u001b[1;33m(\u001b[0m\u001b[1;33m*\u001b[0m\u001b[0margs\u001b[0m\u001b[1;33m,\u001b[0m \u001b[1;33m**\u001b[0m\u001b[0mkwargs\u001b[0m\u001b[1;33m)\u001b[0m\u001b[1;33m\u001b[0m\u001b[1;33m\u001b[0m\u001b[0m\n\u001b[0m\u001b[0;32m     66\u001b[0m         \u001b[1;32mexcept\u001b[0m \u001b[0mException\u001b[0m \u001b[1;32mas\u001b[0m \u001b[0me\u001b[0m\u001b[1;33m:\u001b[0m\u001b[1;33m\u001b[0m\u001b[1;33m\u001b[0m\u001b[0m\n\u001b[0;32m     67\u001b[0m             \u001b[0mfiltered_tb\u001b[0m \u001b[1;33m=\u001b[0m \u001b[0m_process_traceback_frames\u001b[0m\u001b[1;33m(\u001b[0m\u001b[0me\u001b[0m\u001b[1;33m.\u001b[0m\u001b[0m__traceback__\u001b[0m\u001b[1;33m)\u001b[0m\u001b[1;33m\u001b[0m\u001b[1;33m\u001b[0m\u001b[0m\n",
            "\u001b[1;32m~\\AppData\\Roaming\\Python\\Python39\\site-packages\\keras\\engine\\training.py\u001b[0m in \u001b[0;36mfit\u001b[1;34m(self, x, y, batch_size, epochs, verbose, callbacks, validation_split, validation_data, shuffle, class_weight, sample_weight, initial_epoch, steps_per_epoch, validation_steps, validation_batch_size, validation_freq, max_queue_size, workers, use_multiprocessing)\u001b[0m\n\u001b[0;32m   1622\u001b[0m                     \u001b[0mepoch_logs\u001b[0m\u001b[1;33m.\u001b[0m\u001b[0mupdate\u001b[0m\u001b[1;33m(\u001b[0m\u001b[0mval_logs\u001b[0m\u001b[1;33m)\u001b[0m\u001b[1;33m\u001b[0m\u001b[1;33m\u001b[0m\u001b[0m\n\u001b[0;32m   1623\u001b[0m \u001b[1;33m\u001b[0m\u001b[0m\n\u001b[1;32m-> 1624\u001b[1;33m                 \u001b[0mcallbacks\u001b[0m\u001b[1;33m.\u001b[0m\u001b[0mon_epoch_end\u001b[0m\u001b[1;33m(\u001b[0m\u001b[0mepoch\u001b[0m\u001b[1;33m,\u001b[0m \u001b[0mepoch_logs\u001b[0m\u001b[1;33m)\u001b[0m\u001b[1;33m\u001b[0m\u001b[1;33m\u001b[0m\u001b[0m\n\u001b[0m\u001b[0;32m   1625\u001b[0m                 \u001b[0mtraining_logs\u001b[0m \u001b[1;33m=\u001b[0m \u001b[0mepoch_logs\u001b[0m\u001b[1;33m\u001b[0m\u001b[1;33m\u001b[0m\u001b[0m\n\u001b[0;32m   1626\u001b[0m                 \u001b[1;32mif\u001b[0m \u001b[0mself\u001b[0m\u001b[1;33m.\u001b[0m\u001b[0mstop_training\u001b[0m\u001b[1;33m:\u001b[0m\u001b[1;33m\u001b[0m\u001b[1;33m\u001b[0m\u001b[0m\n",
            "\u001b[1;32m~\\AppData\\Roaming\\Python\\Python39\\site-packages\\keras\\callbacks.py\u001b[0m in \u001b[0;36mon_epoch_end\u001b[1;34m(self, epoch, logs)\u001b[0m\n\u001b[0;32m    446\u001b[0m         \u001b[0mlogs\u001b[0m \u001b[1;33m=\u001b[0m \u001b[0mself\u001b[0m\u001b[1;33m.\u001b[0m\u001b[0m_process_logs\u001b[0m\u001b[1;33m(\u001b[0m\u001b[0mlogs\u001b[0m\u001b[1;33m)\u001b[0m\u001b[1;33m\u001b[0m\u001b[1;33m\u001b[0m\u001b[0m\n\u001b[0;32m    447\u001b[0m         \u001b[1;32mfor\u001b[0m \u001b[0mcallback\u001b[0m \u001b[1;32min\u001b[0m \u001b[0mself\u001b[0m\u001b[1;33m.\u001b[0m\u001b[0mcallbacks\u001b[0m\u001b[1;33m:\u001b[0m\u001b[1;33m\u001b[0m\u001b[1;33m\u001b[0m\u001b[0m\n\u001b[1;32m--> 448\u001b[1;33m             \u001b[0mcallback\u001b[0m\u001b[1;33m.\u001b[0m\u001b[0mon_epoch_end\u001b[0m\u001b[1;33m(\u001b[0m\u001b[0mepoch\u001b[0m\u001b[1;33m,\u001b[0m \u001b[0mlogs\u001b[0m\u001b[1;33m)\u001b[0m\u001b[1;33m\u001b[0m\u001b[1;33m\u001b[0m\u001b[0m\n\u001b[0m\u001b[0;32m    449\u001b[0m \u001b[1;33m\u001b[0m\u001b[0m\n\u001b[0;32m    450\u001b[0m     \u001b[1;32mdef\u001b[0m \u001b[0mon_train_batch_begin\u001b[0m\u001b[1;33m(\u001b[0m\u001b[0mself\u001b[0m\u001b[1;33m,\u001b[0m \u001b[0mbatch\u001b[0m\u001b[1;33m,\u001b[0m \u001b[0mlogs\u001b[0m\u001b[1;33m=\u001b[0m\u001b[1;32mNone\u001b[0m\u001b[1;33m)\u001b[0m\u001b[1;33m:\u001b[0m\u001b[1;33m\u001b[0m\u001b[1;33m\u001b[0m\u001b[0m\n",
            "\u001b[1;32m~\\AppData\\Roaming\\Python\\Python39\\site-packages\\keras\\callbacks.py\u001b[0m in \u001b[0;36mon_epoch_end\u001b[1;34m(self, epoch, logs)\u001b[0m\n\u001b[0;32m   1461\u001b[0m \u001b[1;33m\u001b[0m\u001b[0m\n\u001b[0;32m   1462\u001b[0m         \u001b[1;32mif\u001b[0m \u001b[0mself\u001b[0m\u001b[1;33m.\u001b[0m\u001b[0msave_freq\u001b[0m \u001b[1;33m==\u001b[0m \u001b[1;34m\"epoch\"\u001b[0m\u001b[1;33m:\u001b[0m\u001b[1;33m\u001b[0m\u001b[1;33m\u001b[0m\u001b[0m\n\u001b[1;32m-> 1463\u001b[1;33m             \u001b[0mself\u001b[0m\u001b[1;33m.\u001b[0m\u001b[0m_save_model\u001b[0m\u001b[1;33m(\u001b[0m\u001b[0mepoch\u001b[0m\u001b[1;33m=\u001b[0m\u001b[0mepoch\u001b[0m\u001b[1;33m,\u001b[0m \u001b[0mbatch\u001b[0m\u001b[1;33m=\u001b[0m\u001b[1;32mNone\u001b[0m\u001b[1;33m,\u001b[0m \u001b[0mlogs\u001b[0m\u001b[1;33m=\u001b[0m\u001b[0mlogs\u001b[0m\u001b[1;33m)\u001b[0m\u001b[1;33m\u001b[0m\u001b[1;33m\u001b[0m\u001b[0m\n\u001b[0m\u001b[0;32m   1464\u001b[0m \u001b[1;33m\u001b[0m\u001b[0m\n\u001b[0;32m   1465\u001b[0m     \u001b[1;32mdef\u001b[0m \u001b[0m_should_save_on_batch\u001b[0m\u001b[1;33m(\u001b[0m\u001b[0mself\u001b[0m\u001b[1;33m,\u001b[0m \u001b[0mbatch\u001b[0m\u001b[1;33m)\u001b[0m\u001b[1;33m:\u001b[0m\u001b[1;33m\u001b[0m\u001b[1;33m\u001b[0m\u001b[0m\n",
            "\u001b[1;32m~\\AppData\\Roaming\\Python\\Python39\\site-packages\\keras\\callbacks.py\u001b[0m in \u001b[0;36m_save_model\u001b[1;34m(self, epoch, batch, logs)\u001b[0m\n\u001b[0;32m   1526\u001b[0m                                 )\n\u001b[0;32m   1527\u001b[0m                             \u001b[1;32melse\u001b[0m\u001b[1;33m:\u001b[0m\u001b[1;33m\u001b[0m\u001b[1;33m\u001b[0m\u001b[0m\n\u001b[1;32m-> 1528\u001b[1;33m                                 self.model.save(\n\u001b[0m\u001b[0;32m   1529\u001b[0m                                     \u001b[0mfilepath\u001b[0m\u001b[1;33m,\u001b[0m\u001b[1;33m\u001b[0m\u001b[1;33m\u001b[0m\u001b[0m\n\u001b[0;32m   1530\u001b[0m                                     \u001b[0moverwrite\u001b[0m\u001b[1;33m=\u001b[0m\u001b[1;32mTrue\u001b[0m\u001b[1;33m,\u001b[0m\u001b[1;33m\u001b[0m\u001b[1;33m\u001b[0m\u001b[0m\n",
            "\u001b[1;32m~\\AppData\\Roaming\\Python\\Python39\\site-packages\\keras\\utils\\traceback_utils.py\u001b[0m in \u001b[0;36merror_handler\u001b[1;34m(*args, **kwargs)\u001b[0m\n\u001b[0;32m     63\u001b[0m         \u001b[0mfiltered_tb\u001b[0m \u001b[1;33m=\u001b[0m \u001b[1;32mNone\u001b[0m\u001b[1;33m\u001b[0m\u001b[1;33m\u001b[0m\u001b[0m\n\u001b[0;32m     64\u001b[0m         \u001b[1;32mtry\u001b[0m\u001b[1;33m:\u001b[0m\u001b[1;33m\u001b[0m\u001b[1;33m\u001b[0m\u001b[0m\n\u001b[1;32m---> 65\u001b[1;33m             \u001b[1;32mreturn\u001b[0m \u001b[0mfn\u001b[0m\u001b[1;33m(\u001b[0m\u001b[1;33m*\u001b[0m\u001b[0margs\u001b[0m\u001b[1;33m,\u001b[0m \u001b[1;33m**\u001b[0m\u001b[0mkwargs\u001b[0m\u001b[1;33m)\u001b[0m\u001b[1;33m\u001b[0m\u001b[1;33m\u001b[0m\u001b[0m\n\u001b[0m\u001b[0;32m     66\u001b[0m         \u001b[1;32mexcept\u001b[0m \u001b[0mException\u001b[0m \u001b[1;32mas\u001b[0m \u001b[0me\u001b[0m\u001b[1;33m:\u001b[0m\u001b[1;33m\u001b[0m\u001b[1;33m\u001b[0m\u001b[0m\n\u001b[0;32m     67\u001b[0m             \u001b[0mfiltered_tb\u001b[0m \u001b[1;33m=\u001b[0m \u001b[0m_process_traceback_frames\u001b[0m\u001b[1;33m(\u001b[0m\u001b[0me\u001b[0m\u001b[1;33m.\u001b[0m\u001b[0m__traceback__\u001b[0m\u001b[1;33m)\u001b[0m\u001b[1;33m\u001b[0m\u001b[1;33m\u001b[0m\u001b[0m\n",
            "\u001b[1;32m~\\AppData\\Roaming\\Python\\Python39\\site-packages\\keras\\engine\\training.py\u001b[0m in \u001b[0;36msave\u001b[1;34m(self, filepath, overwrite, include_optimizer, save_format, signatures, options, save_traces)\u001b[0m\n\u001b[0;32m   2696\u001b[0m         \"\"\"\n\u001b[0;32m   2697\u001b[0m \u001b[1;33m\u001b[0m\u001b[0m\n\u001b[1;32m-> 2698\u001b[1;33m         save.save_model(\n\u001b[0m\u001b[0;32m   2699\u001b[0m             \u001b[0mself\u001b[0m\u001b[1;33m,\u001b[0m\u001b[1;33m\u001b[0m\u001b[1;33m\u001b[0m\u001b[0m\n\u001b[0;32m   2700\u001b[0m             \u001b[0mfilepath\u001b[0m\u001b[1;33m,\u001b[0m\u001b[1;33m\u001b[0m\u001b[1;33m\u001b[0m\u001b[0m\n",
            "\u001b[1;32m~\\AppData\\Roaming\\Python\\Python39\\site-packages\\keras\\utils\\traceback_utils.py\u001b[0m in \u001b[0;36merror_handler\u001b[1;34m(*args, **kwargs)\u001b[0m\n\u001b[0;32m     63\u001b[0m         \u001b[0mfiltered_tb\u001b[0m \u001b[1;33m=\u001b[0m \u001b[1;32mNone\u001b[0m\u001b[1;33m\u001b[0m\u001b[1;33m\u001b[0m\u001b[0m\n\u001b[0;32m     64\u001b[0m         \u001b[1;32mtry\u001b[0m\u001b[1;33m:\u001b[0m\u001b[1;33m\u001b[0m\u001b[1;33m\u001b[0m\u001b[0m\n\u001b[1;32m---> 65\u001b[1;33m             \u001b[1;32mreturn\u001b[0m \u001b[0mfn\u001b[0m\u001b[1;33m(\u001b[0m\u001b[1;33m*\u001b[0m\u001b[0margs\u001b[0m\u001b[1;33m,\u001b[0m \u001b[1;33m**\u001b[0m\u001b[0mkwargs\u001b[0m\u001b[1;33m)\u001b[0m\u001b[1;33m\u001b[0m\u001b[1;33m\u001b[0m\u001b[0m\n\u001b[0m\u001b[0;32m     66\u001b[0m         \u001b[1;32mexcept\u001b[0m \u001b[0mException\u001b[0m \u001b[1;32mas\u001b[0m \u001b[0me\u001b[0m\u001b[1;33m:\u001b[0m\u001b[1;33m\u001b[0m\u001b[1;33m\u001b[0m\u001b[0m\n\u001b[0;32m     67\u001b[0m             \u001b[0mfiltered_tb\u001b[0m \u001b[1;33m=\u001b[0m \u001b[0m_process_traceback_frames\u001b[0m\u001b[1;33m(\u001b[0m\u001b[0me\u001b[0m\u001b[1;33m.\u001b[0m\u001b[0m__traceback__\u001b[0m\u001b[1;33m)\u001b[0m\u001b[1;33m\u001b[0m\u001b[1;33m\u001b[0m\u001b[0m\n",
            "\u001b[1;32m~\\AppData\\Roaming\\Python\\Python39\\site-packages\\keras\\saving\\save.py\u001b[0m in \u001b[0;36msave_model\u001b[1;34m(model, filepath, overwrite, include_optimizer, save_format, signatures, options, save_traces)\u001b[0m\n\u001b[0;32m    164\u001b[0m     \u001b[1;32melse\u001b[0m\u001b[1;33m:\u001b[0m\u001b[1;33m\u001b[0m\u001b[1;33m\u001b[0m\u001b[0m\n\u001b[0;32m    165\u001b[0m         \u001b[1;32mwith\u001b[0m \u001b[0mgeneric_utils\u001b[0m\u001b[1;33m.\u001b[0m\u001b[0mSharedObjectSavingScope\u001b[0m\u001b[1;33m(\u001b[0m\u001b[1;33m)\u001b[0m\u001b[1;33m:\u001b[0m\u001b[1;33m\u001b[0m\u001b[1;33m\u001b[0m\u001b[0m\n\u001b[1;32m--> 166\u001b[1;33m             saved_model_save.save(\n\u001b[0m\u001b[0;32m    167\u001b[0m                 \u001b[0mmodel\u001b[0m\u001b[1;33m,\u001b[0m\u001b[1;33m\u001b[0m\u001b[1;33m\u001b[0m\u001b[0m\n\u001b[0;32m    168\u001b[0m                 \u001b[0mfilepath\u001b[0m\u001b[1;33m,\u001b[0m\u001b[1;33m\u001b[0m\u001b[1;33m\u001b[0m\u001b[0m\n",
            "\u001b[1;32m~\\AppData\\Roaming\\Python\\Python39\\site-packages\\keras\\saving\\saved_model\\save.py\u001b[0m in \u001b[0;36msave\u001b[1;34m(model, filepath, overwrite, include_optimizer, signatures, options, save_traces)\u001b[0m\n\u001b[0;32m     95\u001b[0m     \u001b[1;32mwith\u001b[0m \u001b[0mbackend\u001b[0m\u001b[1;33m.\u001b[0m\u001b[0mdeprecated_internal_learning_phase_scope\u001b[0m\u001b[1;33m(\u001b[0m\u001b[1;36m0\u001b[0m\u001b[1;33m)\u001b[0m\u001b[1;33m:\u001b[0m\u001b[1;33m\u001b[0m\u001b[1;33m\u001b[0m\u001b[0m\n\u001b[0;32m     96\u001b[0m         \u001b[1;32mwith\u001b[0m \u001b[0mutils\u001b[0m\u001b[1;33m.\u001b[0m\u001b[0mkeras_option_scope\u001b[0m\u001b[1;33m(\u001b[0m\u001b[0msave_traces\u001b[0m\u001b[1;33m)\u001b[0m\u001b[1;33m:\u001b[0m\u001b[1;33m\u001b[0m\u001b[1;33m\u001b[0m\u001b[0m\n\u001b[1;32m---> 97\u001b[1;33m             saved_nodes, node_paths = save_lib.save_and_return_nodes(\n\u001b[0m\u001b[0;32m     98\u001b[0m                 \u001b[0mmodel\u001b[0m\u001b[1;33m,\u001b[0m \u001b[0mfilepath\u001b[0m\u001b[1;33m,\u001b[0m \u001b[0msignatures\u001b[0m\u001b[1;33m,\u001b[0m \u001b[0moptions\u001b[0m\u001b[1;33m\u001b[0m\u001b[1;33m\u001b[0m\u001b[0m\n\u001b[0;32m     99\u001b[0m             )\n",
            "\u001b[1;32m~\\AppData\\Roaming\\Python\\Python39\\site-packages\\tensorflow\\python\\saved_model\\save.py\u001b[0m in \u001b[0;36msave_and_return_nodes\u001b[1;34m(obj, export_dir, signatures, options, experimental_skip_checkpoint)\u001b[0m\n\u001b[0;32m   1266\u001b[0m \u001b[1;33m\u001b[0m\u001b[0m\n\u001b[0;32m   1267\u001b[0m   _, exported_graph, object_saver, asset_info, saved_nodes, node_paths = (\n\u001b[1;32m-> 1268\u001b[1;33m       _build_meta_graph(obj, signatures, options, meta_graph_def))\n\u001b[0m\u001b[0;32m   1269\u001b[0m   saved_model.saved_model_schema_version = (\n\u001b[0;32m   1270\u001b[0m       constants.SAVED_MODEL_SCHEMA_VERSION)\n",
            "\u001b[1;32m~\\AppData\\Roaming\\Python\\Python39\\site-packages\\tensorflow\\python\\saved_model\\save.py\u001b[0m in \u001b[0;36m_build_meta_graph\u001b[1;34m(obj, signatures, options, meta_graph_def)\u001b[0m\n\u001b[0;32m   1439\u001b[0m \u001b[1;33m\u001b[0m\u001b[0m\n\u001b[0;32m   1440\u001b[0m   \u001b[1;32mwith\u001b[0m \u001b[0msave_context\u001b[0m\u001b[1;33m.\u001b[0m\u001b[0msave_context\u001b[0m\u001b[1;33m(\u001b[0m\u001b[0moptions\u001b[0m\u001b[1;33m)\u001b[0m\u001b[1;33m:\u001b[0m\u001b[1;33m\u001b[0m\u001b[1;33m\u001b[0m\u001b[0m\n\u001b[1;32m-> 1441\u001b[1;33m     \u001b[1;32mreturn\u001b[0m \u001b[0m_build_meta_graph_impl\u001b[0m\u001b[1;33m(\u001b[0m\u001b[0mobj\u001b[0m\u001b[1;33m,\u001b[0m \u001b[0msignatures\u001b[0m\u001b[1;33m,\u001b[0m \u001b[0moptions\u001b[0m\u001b[1;33m,\u001b[0m \u001b[0mmeta_graph_def\u001b[0m\u001b[1;33m)\u001b[0m\u001b[1;33m\u001b[0m\u001b[1;33m\u001b[0m\u001b[0m\n\u001b[0m",
            "\u001b[1;32m~\\AppData\\Roaming\\Python\\Python39\\site-packages\\tensorflow\\python\\saved_model\\save.py\u001b[0m in \u001b[0;36m_build_meta_graph_impl\u001b[1;34m(obj, signatures, options, meta_graph_def)\u001b[0m\n\u001b[0;32m   1382\u001b[0m   \u001b[0maugmented_graph_view\u001b[0m \u001b[1;33m=\u001b[0m \u001b[0m_AugmentedGraphView\u001b[0m\u001b[1;33m(\u001b[0m\u001b[0mobj\u001b[0m\u001b[1;33m)\u001b[0m\u001b[1;33m\u001b[0m\u001b[1;33m\u001b[0m\u001b[0m\n\u001b[0;32m   1383\u001b[0m   \u001b[1;32mif\u001b[0m \u001b[0msignatures\u001b[0m \u001b[1;32mis\u001b[0m \u001b[1;32mNone\u001b[0m\u001b[1;33m:\u001b[0m\u001b[1;33m\u001b[0m\u001b[1;33m\u001b[0m\u001b[0m\n\u001b[1;32m-> 1384\u001b[1;33m     signatures = signature_serialization.find_function_to_export(\n\u001b[0m\u001b[0;32m   1385\u001b[0m         augmented_graph_view)\n\u001b[0;32m   1386\u001b[0m \u001b[1;33m\u001b[0m\u001b[0m\n",
            "\u001b[1;32m~\\AppData\\Roaming\\Python\\Python39\\site-packages\\tensorflow\\python\\saved_model\\signature_serialization.py\u001b[0m in \u001b[0;36mfind_function_to_export\u001b[1;34m(saveable_view)\u001b[0m\n\u001b[0;32m    101\u001b[0m   \u001b[1;31m# serving that model way later in the process stops working.\u001b[0m\u001b[1;33m\u001b[0m\u001b[1;33m\u001b[0m\u001b[0m\n\u001b[0;32m    102\u001b[0m   \u001b[0mpossible_signatures\u001b[0m \u001b[1;33m=\u001b[0m \u001b[1;33m[\u001b[0m\u001b[1;33m]\u001b[0m\u001b[1;33m\u001b[0m\u001b[1;33m\u001b[0m\u001b[0m\n\u001b[1;32m--> 103\u001b[1;33m   \u001b[1;32mfor\u001b[0m \u001b[0mname\u001b[0m\u001b[1;33m,\u001b[0m \u001b[0mchild\u001b[0m \u001b[1;32min\u001b[0m \u001b[0mchildren\u001b[0m\u001b[1;33m:\u001b[0m\u001b[1;33m\u001b[0m\u001b[1;33m\u001b[0m\u001b[0m\n\u001b[0m\u001b[0;32m    104\u001b[0m     \u001b[1;32mif\u001b[0m \u001b[1;32mnot\u001b[0m \u001b[0misinstance\u001b[0m\u001b[1;33m(\u001b[0m\u001b[0mchild\u001b[0m\u001b[1;33m,\u001b[0m \u001b[1;33m(\u001b[0m\u001b[0mdef_function\u001b[0m\u001b[1;33m.\u001b[0m\u001b[0mFunction\u001b[0m\u001b[1;33m,\u001b[0m \u001b[0mdefun\u001b[0m\u001b[1;33m.\u001b[0m\u001b[0mConcreteFunction\u001b[0m\u001b[1;33m)\u001b[0m\u001b[1;33m)\u001b[0m\u001b[1;33m:\u001b[0m\u001b[1;33m\u001b[0m\u001b[1;33m\u001b[0m\u001b[0m\n\u001b[0;32m    105\u001b[0m       \u001b[1;32mcontinue\u001b[0m\u001b[1;33m\u001b[0m\u001b[1;33m\u001b[0m\u001b[0m\n",
            "\u001b[1;32m~\\AppData\\Roaming\\Python\\Python39\\site-packages\\tensorflow\\python\\saved_model\\save.py\u001b[0m in \u001b[0;36mlist_children\u001b[1;34m(self, obj)\u001b[0m\n\u001b[0;32m    173\u001b[0m       \u001b[0mchildren\u001b[0m \u001b[1;33m=\u001b[0m \u001b[0mself\u001b[0m\u001b[1;33m.\u001b[0m\u001b[0m_children_cache\u001b[0m\u001b[1;33m[\u001b[0m\u001b[0mobj\u001b[0m\u001b[1;33m]\u001b[0m \u001b[1;33m=\u001b[0m \u001b[1;33m{\u001b[0m\u001b[1;33m}\u001b[0m\u001b[1;33m\u001b[0m\u001b[1;33m\u001b[0m\u001b[0m\n\u001b[0;32m    174\u001b[0m \u001b[1;33m\u001b[0m\u001b[0m\n\u001b[1;32m--> 175\u001b[1;33m       for name, child in super(_AugmentedGraphView, self).list_children(\n\u001b[0m\u001b[0;32m    176\u001b[0m           \u001b[0mobj\u001b[0m\u001b[1;33m,\u001b[0m\u001b[1;33m\u001b[0m\u001b[1;33m\u001b[0m\u001b[0m\n\u001b[0;32m    177\u001b[0m           \u001b[0msave_type\u001b[0m\u001b[1;33m=\u001b[0m\u001b[0mbase\u001b[0m\u001b[1;33m.\u001b[0m\u001b[0mSaveType\u001b[0m\u001b[1;33m.\u001b[0m\u001b[0mSAVEDMODEL\u001b[0m\u001b[1;33m,\u001b[0m\u001b[1;33m\u001b[0m\u001b[1;33m\u001b[0m\u001b[0m\n",
            "\u001b[1;32m~\\AppData\\Roaming\\Python\\Python39\\site-packages\\tensorflow\\python\\checkpoint\\graph_view.py\u001b[0m in \u001b[0;36mlist_children\u001b[1;34m(self, obj, save_type, **kwargs)\u001b[0m\n\u001b[0;32m     73\u001b[0m     \"\"\"\n\u001b[0;32m     74\u001b[0m     \u001b[0mchildren\u001b[0m \u001b[1;33m=\u001b[0m \u001b[1;33m[\u001b[0m\u001b[1;33m]\u001b[0m\u001b[1;33m\u001b[0m\u001b[1;33m\u001b[0m\u001b[0m\n\u001b[1;32m---> 75\u001b[1;33m     for name, ref in super(ObjectGraphView,\n\u001b[0m\u001b[0;32m     76\u001b[0m                            self).children(obj, save_type, **kwargs).items():\n\u001b[0;32m     77\u001b[0m       \u001b[0mchildren\u001b[0m\u001b[1;33m.\u001b[0m\u001b[0mappend\u001b[0m\u001b[1;33m(\u001b[0m\u001b[0mbase\u001b[0m\u001b[1;33m.\u001b[0m\u001b[0mTrackableReference\u001b[0m\u001b[1;33m(\u001b[0m\u001b[0mname\u001b[0m\u001b[1;33m,\u001b[0m \u001b[0mref\u001b[0m\u001b[1;33m)\u001b[0m\u001b[1;33m)\u001b[0m\u001b[1;33m\u001b[0m\u001b[1;33m\u001b[0m\u001b[0m\n",
            "\u001b[1;32m~\\AppData\\Roaming\\Python\\Python39\\site-packages\\tensorflow\\python\\checkpoint\\trackable_view.py\u001b[0m in \u001b[0;36mchildren\u001b[1;34m(cls, obj, save_type, **kwargs)\u001b[0m\n\u001b[0;32m     82\u001b[0m     \u001b[0mobj\u001b[0m\u001b[1;33m.\u001b[0m\u001b[0m_maybe_initialize_trackable\u001b[0m\u001b[1;33m(\u001b[0m\u001b[1;33m)\u001b[0m\u001b[1;33m\u001b[0m\u001b[1;33m\u001b[0m\u001b[0m\n\u001b[0;32m     83\u001b[0m     \u001b[0mchildren\u001b[0m \u001b[1;33m=\u001b[0m \u001b[1;33m{\u001b[0m\u001b[1;33m}\u001b[0m\u001b[1;33m\u001b[0m\u001b[1;33m\u001b[0m\u001b[0m\n\u001b[1;32m---> 84\u001b[1;33m     \u001b[1;32mfor\u001b[0m \u001b[0mname\u001b[0m\u001b[1;33m,\u001b[0m \u001b[0mref\u001b[0m \u001b[1;32min\u001b[0m \u001b[0mobj\u001b[0m\u001b[1;33m.\u001b[0m\u001b[0m_trackable_children\u001b[0m\u001b[1;33m(\u001b[0m\u001b[0msave_type\u001b[0m\u001b[1;33m,\u001b[0m \u001b[1;33m**\u001b[0m\u001b[0mkwargs\u001b[0m\u001b[1;33m)\u001b[0m\u001b[1;33m.\u001b[0m\u001b[0mitems\u001b[0m\u001b[1;33m(\u001b[0m\u001b[1;33m)\u001b[0m\u001b[1;33m:\u001b[0m\u001b[1;33m\u001b[0m\u001b[1;33m\u001b[0m\u001b[0m\n\u001b[0m\u001b[0;32m     85\u001b[0m       \u001b[0mref\u001b[0m \u001b[1;33m=\u001b[0m \u001b[0mconverter\u001b[0m\u001b[1;33m.\u001b[0m\u001b[0mconvert_to_trackable\u001b[0m\u001b[1;33m(\u001b[0m\u001b[0mref\u001b[0m\u001b[1;33m,\u001b[0m \u001b[0mparent\u001b[0m\u001b[1;33m=\u001b[0m\u001b[0mobj\u001b[0m\u001b[1;33m)\u001b[0m\u001b[1;33m\u001b[0m\u001b[1;33m\u001b[0m\u001b[0m\n\u001b[0;32m     86\u001b[0m       \u001b[0mchildren\u001b[0m\u001b[1;33m[\u001b[0m\u001b[0mname\u001b[0m\u001b[1;33m]\u001b[0m \u001b[1;33m=\u001b[0m \u001b[0mref\u001b[0m\u001b[1;33m\u001b[0m\u001b[1;33m\u001b[0m\u001b[0m\n",
            "\u001b[1;32m~\\AppData\\Roaming\\Python\\Python39\\site-packages\\keras\\engine\\functional.py\u001b[0m in \u001b[0;36m_trackable_children\u001b[1;34m(self, save_type, **kwargs)\u001b[0m\n\u001b[0;32m    457\u001b[0m     \u001b[1;32mdef\u001b[0m \u001b[0m_trackable_children\u001b[0m\u001b[1;33m(\u001b[0m\u001b[0mself\u001b[0m\u001b[1;33m,\u001b[0m \u001b[0msave_type\u001b[0m\u001b[1;33m=\u001b[0m\u001b[1;34m\"checkpoint\"\u001b[0m\u001b[1;33m,\u001b[0m \u001b[1;33m**\u001b[0m\u001b[0mkwargs\u001b[0m\u001b[1;33m)\u001b[0m\u001b[1;33m:\u001b[0m\u001b[1;33m\u001b[0m\u001b[1;33m\u001b[0m\u001b[0m\n\u001b[0;32m    458\u001b[0m         \u001b[0mdependencies\u001b[0m \u001b[1;33m=\u001b[0m \u001b[0mself\u001b[0m\u001b[1;33m.\u001b[0m\u001b[0m_layer_checkpoint_dependencies\u001b[0m\u001b[1;33m\u001b[0m\u001b[1;33m\u001b[0m\u001b[0m\n\u001b[1;32m--> 459\u001b[1;33m         \u001b[0mdependencies\u001b[0m\u001b[1;33m.\u001b[0m\u001b[0mupdate\u001b[0m\u001b[1;33m(\u001b[0m\u001b[0msuper\u001b[0m\u001b[1;33m(\u001b[0m\u001b[1;33m)\u001b[0m\u001b[1;33m.\u001b[0m\u001b[0m_trackable_children\u001b[0m\u001b[1;33m(\u001b[0m\u001b[0msave_type\u001b[0m\u001b[1;33m,\u001b[0m \u001b[1;33m**\u001b[0m\u001b[0mkwargs\u001b[0m\u001b[1;33m)\u001b[0m\u001b[1;33m)\u001b[0m\u001b[1;33m\u001b[0m\u001b[1;33m\u001b[0m\u001b[0m\n\u001b[0m\u001b[0;32m    460\u001b[0m         \u001b[1;32mreturn\u001b[0m \u001b[0mdependencies\u001b[0m\u001b[1;33m\u001b[0m\u001b[1;33m\u001b[0m\u001b[0m\n\u001b[0;32m    461\u001b[0m \u001b[1;33m\u001b[0m\u001b[0m\n",
            "\u001b[1;32m~\\AppData\\Roaming\\Python\\Python39\\site-packages\\keras\\engine\\training.py\u001b[0m in \u001b[0;36m_trackable_children\u001b[1;34m(self, save_type, **kwargs)\u001b[0m\n\u001b[0;32m   3664\u001b[0m             \u001b[0mself\u001b[0m\u001b[1;33m.\u001b[0m\u001b[0mtrain_tf_function\u001b[0m \u001b[1;33m=\u001b[0m \u001b[1;32mNone\u001b[0m\u001b[1;33m\u001b[0m\u001b[1;33m\u001b[0m\u001b[0m\n\u001b[0;32m   3665\u001b[0m \u001b[1;33m\u001b[0m\u001b[0m\n\u001b[1;32m-> 3666\u001b[1;33m         \u001b[0mchildren\u001b[0m \u001b[1;33m=\u001b[0m \u001b[0msuper\u001b[0m\u001b[1;33m(\u001b[0m\u001b[1;33m)\u001b[0m\u001b[1;33m.\u001b[0m\u001b[0m_trackable_children\u001b[0m\u001b[1;33m(\u001b[0m\u001b[0msave_type\u001b[0m\u001b[1;33m,\u001b[0m \u001b[1;33m**\u001b[0m\u001b[0mkwargs\u001b[0m\u001b[1;33m)\u001b[0m\u001b[1;33m\u001b[0m\u001b[1;33m\u001b[0m\u001b[0m\n\u001b[0m\u001b[0;32m   3667\u001b[0m \u001b[1;33m\u001b[0m\u001b[0m\n\u001b[0;32m   3668\u001b[0m         \u001b[1;32mif\u001b[0m \u001b[0msave_type\u001b[0m \u001b[1;33m==\u001b[0m \u001b[1;34m\"savedmodel\"\u001b[0m\u001b[1;33m:\u001b[0m\u001b[1;33m\u001b[0m\u001b[1;33m\u001b[0m\u001b[0m\n",
            "\u001b[1;32m~\\AppData\\Roaming\\Python\\Python39\\site-packages\\keras\\engine\\base_layer.py\u001b[0m in \u001b[0;36m_trackable_children\u001b[1;34m(self, save_type, **kwargs)\u001b[0m\n\u001b[0;32m   3335\u001b[0m             \u001b[1;31m# that any input shape changes are applied before getting the config\u001b[0m\u001b[1;33m\u001b[0m\u001b[1;33m\u001b[0m\u001b[0m\n\u001b[0;32m   3336\u001b[0m             \u001b[1;31m# of the model.\u001b[0m\u001b[1;33m\u001b[0m\u001b[1;33m\u001b[0m\u001b[0m\n\u001b[1;32m-> 3337\u001b[1;33m             children = self._trackable_saved_model_saver.trackable_children(\n\u001b[0m\u001b[0;32m   3338\u001b[0m                 \u001b[0mcache\u001b[0m\u001b[1;33m\u001b[0m\u001b[1;33m\u001b[0m\u001b[0m\n\u001b[0;32m   3339\u001b[0m             )\n",
            "\u001b[1;32m~\\AppData\\Roaming\\Python\\Python39\\site-packages\\keras\\saving\\saved_model\\base_serialization.py\u001b[0m in \u001b[0;36mtrackable_children\u001b[1;34m(self, serialization_cache)\u001b[0m\n\u001b[0;32m     59\u001b[0m             \u001b[1;32mreturn\u001b[0m \u001b[1;33m{\u001b[0m\u001b[1;33m}\u001b[0m\u001b[1;33m\u001b[0m\u001b[1;33m\u001b[0m\u001b[0m\n\u001b[0;32m     60\u001b[0m \u001b[1;33m\u001b[0m\u001b[0m\n\u001b[1;32m---> 61\u001b[1;33m         \u001b[0mchildren\u001b[0m \u001b[1;33m=\u001b[0m \u001b[0mself\u001b[0m\u001b[1;33m.\u001b[0m\u001b[0mobjects_to_serialize\u001b[0m\u001b[1;33m(\u001b[0m\u001b[0mserialization_cache\u001b[0m\u001b[1;33m)\u001b[0m\u001b[1;33m\u001b[0m\u001b[1;33m\u001b[0m\u001b[0m\n\u001b[0m\u001b[0;32m     62\u001b[0m         \u001b[0mchildren\u001b[0m\u001b[1;33m.\u001b[0m\u001b[0mupdate\u001b[0m\u001b[1;33m(\u001b[0m\u001b[0mself\u001b[0m\u001b[1;33m.\u001b[0m\u001b[0mfunctions_to_serialize\u001b[0m\u001b[1;33m(\u001b[0m\u001b[0mserialization_cache\u001b[0m\u001b[1;33m)\u001b[0m\u001b[1;33m)\u001b[0m\u001b[1;33m\u001b[0m\u001b[1;33m\u001b[0m\u001b[0m\n\u001b[0;32m     63\u001b[0m         \u001b[1;32mreturn\u001b[0m \u001b[0mchildren\u001b[0m\u001b[1;33m\u001b[0m\u001b[1;33m\u001b[0m\u001b[0m\n",
            "\u001b[1;32m~\\AppData\\Roaming\\Python\\Python39\\site-packages\\keras\\saving\\saved_model\\layer_serialization.py\u001b[0m in \u001b[0;36mobjects_to_serialize\u001b[1;34m(self, serialization_cache)\u001b[0m\n\u001b[0;32m     77\u001b[0m \u001b[1;33m\u001b[0m\u001b[0m\n\u001b[0;32m     78\u001b[0m     \u001b[1;32mdef\u001b[0m \u001b[0mobjects_to_serialize\u001b[0m\u001b[1;33m(\u001b[0m\u001b[0mself\u001b[0m\u001b[1;33m,\u001b[0m \u001b[0mserialization_cache\u001b[0m\u001b[1;33m)\u001b[0m\u001b[1;33m:\u001b[0m\u001b[1;33m\u001b[0m\u001b[1;33m\u001b[0m\u001b[0m\n\u001b[1;32m---> 79\u001b[1;33m         return self._get_serialized_attributes(\n\u001b[0m\u001b[0;32m     80\u001b[0m             \u001b[0mserialization_cache\u001b[0m\u001b[1;33m\u001b[0m\u001b[1;33m\u001b[0m\u001b[0m\n\u001b[0;32m     81\u001b[0m         ).objects_to_serialize\n",
            "\u001b[1;32m~\\AppData\\Roaming\\Python\\Python39\\site-packages\\keras\\saving\\saved_model\\layer_serialization.py\u001b[0m in \u001b[0;36m_get_serialized_attributes\u001b[1;34m(self, serialization_cache)\u001b[0m\n\u001b[0;32m    104\u001b[0m             \u001b[1;32mreturn\u001b[0m \u001b[0mserialized_attr\u001b[0m\u001b[1;33m\u001b[0m\u001b[1;33m\u001b[0m\u001b[0m\n\u001b[0;32m    105\u001b[0m \u001b[1;33m\u001b[0m\u001b[0m\n\u001b[1;32m--> 106\u001b[1;33m         object_dict, function_dict = self._get_serialized_attributes_internal(\n\u001b[0m\u001b[0;32m    107\u001b[0m             \u001b[0mserialization_cache\u001b[0m\u001b[1;33m\u001b[0m\u001b[1;33m\u001b[0m\u001b[0m\n\u001b[0;32m    108\u001b[0m         )\n",
            "\u001b[1;32m~\\AppData\\Roaming\\Python\\Python39\\site-packages\\keras\\saving\\saved_model\\model_serialization.py\u001b[0m in \u001b[0;36m_get_serialized_attributes_internal\u001b[1;34m(self, serialization_cache)\u001b[0m\n\u001b[0;32m     55\u001b[0m         \u001b[1;31m# Other than the default signature function, all other attributes match\u001b[0m\u001b[1;33m\u001b[0m\u001b[1;33m\u001b[0m\u001b[0m\n\u001b[0;32m     56\u001b[0m         \u001b[1;31m# with the ones serialized by Layer.\u001b[0m\u001b[1;33m\u001b[0m\u001b[1;33m\u001b[0m\u001b[0m\n\u001b[1;32m---> 57\u001b[1;33m         objects, functions = super()._get_serialized_attributes_internal(\n\u001b[0m\u001b[0;32m     58\u001b[0m             \u001b[0mserialization_cache\u001b[0m\u001b[1;33m\u001b[0m\u001b[1;33m\u001b[0m\u001b[0m\n\u001b[0;32m     59\u001b[0m         )\n",
            "\u001b[1;32m~\\AppData\\Roaming\\Python\\Python39\\site-packages\\keras\\saving\\saved_model\\layer_serialization.py\u001b[0m in \u001b[0;36m_get_serialized_attributes_internal\u001b[1;34m(self, serialization_cache)\u001b[0m\n\u001b[0;32m    115\u001b[0m         \u001b[1;34m\"\"\"Returns dictionary of serialized attributes.\"\"\"\u001b[0m\u001b[1;33m\u001b[0m\u001b[1;33m\u001b[0m\u001b[0m\n\u001b[0;32m    116\u001b[0m         \u001b[0mobjects\u001b[0m \u001b[1;33m=\u001b[0m \u001b[0msave_impl\u001b[0m\u001b[1;33m.\u001b[0m\u001b[0mwrap_layer_objects\u001b[0m\u001b[1;33m(\u001b[0m\u001b[0mself\u001b[0m\u001b[1;33m.\u001b[0m\u001b[0mobj\u001b[0m\u001b[1;33m,\u001b[0m \u001b[0mserialization_cache\u001b[0m\u001b[1;33m)\u001b[0m\u001b[1;33m\u001b[0m\u001b[1;33m\u001b[0m\u001b[0m\n\u001b[1;32m--> 117\u001b[1;33m         functions = save_impl.wrap_layer_functions(\n\u001b[0m\u001b[0;32m    118\u001b[0m             \u001b[0mself\u001b[0m\u001b[1;33m.\u001b[0m\u001b[0mobj\u001b[0m\u001b[1;33m,\u001b[0m \u001b[0mserialization_cache\u001b[0m\u001b[1;33m\u001b[0m\u001b[1;33m\u001b[0m\u001b[0m\n\u001b[0;32m    119\u001b[0m         )\n",
            "\u001b[1;32m~\\AppData\\Roaming\\Python\\Python39\\site-packages\\keras\\saving\\saved_model\\save_impl.py\u001b[0m in \u001b[0;36mwrap_layer_functions\u001b[1;34m(layer, serialization_cache)\u001b[0m\n\u001b[0;32m    223\u001b[0m             \u001b[1;32mfor\u001b[0m \u001b[0mfn\u001b[0m \u001b[1;32min\u001b[0m \u001b[0mfns\u001b[0m\u001b[1;33m.\u001b[0m\u001b[0mvalues\u001b[0m\u001b[1;33m(\u001b[0m\u001b[1;33m)\u001b[0m\u001b[1;33m:\u001b[0m\u001b[1;33m\u001b[0m\u001b[1;33m\u001b[0m\u001b[0m\n\u001b[0;32m    224\u001b[0m                 \u001b[1;32mif\u001b[0m \u001b[0mfn\u001b[0m \u001b[1;32mis\u001b[0m \u001b[1;32mnot\u001b[0m \u001b[1;32mNone\u001b[0m \u001b[1;32mand\u001b[0m \u001b[1;32mnot\u001b[0m \u001b[0misinstance\u001b[0m\u001b[1;33m(\u001b[0m\u001b[0mfn\u001b[0m\u001b[1;33m,\u001b[0m \u001b[0mLayerCall\u001b[0m\u001b[1;33m)\u001b[0m\u001b[1;33m:\u001b[0m\u001b[1;33m\u001b[0m\u001b[1;33m\u001b[0m\u001b[0m\n\u001b[1;32m--> 225\u001b[1;33m                     \u001b[0mfn\u001b[0m\u001b[1;33m.\u001b[0m\u001b[0mget_concrete_function\u001b[0m\u001b[1;33m(\u001b[0m\u001b[1;33m)\u001b[0m\u001b[1;33m\u001b[0m\u001b[1;33m\u001b[0m\u001b[0m\n\u001b[0m\u001b[0;32m    226\u001b[0m \u001b[1;33m\u001b[0m\u001b[0m\n\u001b[0;32m    227\u001b[0m     \u001b[1;31m# Restore overwritten functions and losses\u001b[0m\u001b[1;33m\u001b[0m\u001b[1;33m\u001b[0m\u001b[0m\n",
            "\u001b[1;32mc:\\Users\\priya\\anaconda3\\envs\\neuralenv\\lib\\contextlib.py\u001b[0m in \u001b[0;36m__exit__\u001b[1;34m(self, typ, value, traceback)\u001b[0m\n\u001b[0;32m    124\u001b[0m         \u001b[1;32mif\u001b[0m \u001b[0mtyp\u001b[0m \u001b[1;32mis\u001b[0m \u001b[1;32mNone\u001b[0m\u001b[1;33m:\u001b[0m\u001b[1;33m\u001b[0m\u001b[1;33m\u001b[0m\u001b[0m\n\u001b[0;32m    125\u001b[0m             \u001b[1;32mtry\u001b[0m\u001b[1;33m:\u001b[0m\u001b[1;33m\u001b[0m\u001b[1;33m\u001b[0m\u001b[0m\n\u001b[1;32m--> 126\u001b[1;33m                 \u001b[0mnext\u001b[0m\u001b[1;33m(\u001b[0m\u001b[0mself\u001b[0m\u001b[1;33m.\u001b[0m\u001b[0mgen\u001b[0m\u001b[1;33m)\u001b[0m\u001b[1;33m\u001b[0m\u001b[1;33m\u001b[0m\u001b[0m\n\u001b[0m\u001b[0;32m    127\u001b[0m             \u001b[1;32mexcept\u001b[0m \u001b[0mStopIteration\u001b[0m\u001b[1;33m:\u001b[0m\u001b[1;33m\u001b[0m\u001b[1;33m\u001b[0m\u001b[0m\n\u001b[0;32m    128\u001b[0m                 \u001b[1;32mreturn\u001b[0m \u001b[1;32mFalse\u001b[0m\u001b[1;33m\u001b[0m\u001b[1;33m\u001b[0m\u001b[0m\n",
            "\u001b[1;32m~\\AppData\\Roaming\\Python\\Python39\\site-packages\\keras\\saving\\saved_model\\save_impl.py\u001b[0m in \u001b[0;36mtracing_scope\u001b[1;34m()\u001b[0m\n\u001b[0;32m    390\u001b[0m             \u001b[1;32mif\u001b[0m \u001b[0mtraining\u001b[0m \u001b[1;32mis\u001b[0m \u001b[1;32mnot\u001b[0m \u001b[1;32mNone\u001b[0m\u001b[1;33m:\u001b[0m\u001b[1;33m\u001b[0m\u001b[1;33m\u001b[0m\u001b[0m\n\u001b[0;32m    391\u001b[0m                 \u001b[1;32mwith\u001b[0m \u001b[0mbackend\u001b[0m\u001b[1;33m.\u001b[0m\u001b[0mdeprecated_internal_learning_phase_scope\u001b[0m\u001b[1;33m(\u001b[0m\u001b[0mtraining\u001b[0m\u001b[1;33m)\u001b[0m\u001b[1;33m:\u001b[0m\u001b[1;33m\u001b[0m\u001b[1;33m\u001b[0m\u001b[0m\n\u001b[1;32m--> 392\u001b[1;33m                     \u001b[0mfn\u001b[0m\u001b[1;33m.\u001b[0m\u001b[0mget_concrete_function\u001b[0m\u001b[1;33m(\u001b[0m\u001b[1;33m*\u001b[0m\u001b[0margs\u001b[0m\u001b[1;33m,\u001b[0m \u001b[1;33m**\u001b[0m\u001b[0mkwargs\u001b[0m\u001b[1;33m)\u001b[0m\u001b[1;33m\u001b[0m\u001b[1;33m\u001b[0m\u001b[0m\n\u001b[0m\u001b[0;32m    393\u001b[0m             \u001b[1;32melse\u001b[0m\u001b[1;33m:\u001b[0m\u001b[1;33m\u001b[0m\u001b[1;33m\u001b[0m\u001b[0m\n\u001b[0;32m    394\u001b[0m                 \u001b[0mfn\u001b[0m\u001b[1;33m.\u001b[0m\u001b[0mget_concrete_function\u001b[0m\u001b[1;33m(\u001b[0m\u001b[1;33m*\u001b[0m\u001b[0margs\u001b[0m\u001b[1;33m,\u001b[0m \u001b[1;33m**\u001b[0m\u001b[0mkwargs\u001b[0m\u001b[1;33m)\u001b[0m\u001b[1;33m\u001b[0m\u001b[1;33m\u001b[0m\u001b[0m\n",
            "\u001b[1;32m~\\AppData\\Roaming\\Python\\Python39\\site-packages\\tensorflow\\python\\eager\\def_function.py\u001b[0m in \u001b[0;36mget_concrete_function\u001b[1;34m(self, *args, **kwargs)\u001b[0m\n\u001b[0;32m   1237\u001b[0m   \u001b[1;32mdef\u001b[0m \u001b[0mget_concrete_function\u001b[0m\u001b[1;33m(\u001b[0m\u001b[0mself\u001b[0m\u001b[1;33m,\u001b[0m \u001b[1;33m*\u001b[0m\u001b[0margs\u001b[0m\u001b[1;33m,\u001b[0m \u001b[1;33m**\u001b[0m\u001b[0mkwargs\u001b[0m\u001b[1;33m)\u001b[0m\u001b[1;33m:\u001b[0m\u001b[1;33m\u001b[0m\u001b[1;33m\u001b[0m\u001b[0m\n\u001b[0;32m   1238\u001b[0m     \u001b[1;31m# Implements GenericFunction.get_concrete_function.\u001b[0m\u001b[1;33m\u001b[0m\u001b[1;33m\u001b[0m\u001b[0m\n\u001b[1;32m-> 1239\u001b[1;33m     \u001b[0mconcrete\u001b[0m \u001b[1;33m=\u001b[0m \u001b[0mself\u001b[0m\u001b[1;33m.\u001b[0m\u001b[0m_get_concrete_function_garbage_collected\u001b[0m\u001b[1;33m(\u001b[0m\u001b[1;33m*\u001b[0m\u001b[0margs\u001b[0m\u001b[1;33m,\u001b[0m \u001b[1;33m**\u001b[0m\u001b[0mkwargs\u001b[0m\u001b[1;33m)\u001b[0m\u001b[1;33m\u001b[0m\u001b[1;33m\u001b[0m\u001b[0m\n\u001b[0m\u001b[0;32m   1240\u001b[0m     \u001b[0mconcrete\u001b[0m\u001b[1;33m.\u001b[0m\u001b[0m_garbage_collector\u001b[0m\u001b[1;33m.\u001b[0m\u001b[0mrelease\u001b[0m\u001b[1;33m(\u001b[0m\u001b[1;33m)\u001b[0m  \u001b[1;31m# pylint: disable=protected-access\u001b[0m\u001b[1;33m\u001b[0m\u001b[1;33m\u001b[0m\u001b[0m\n\u001b[0;32m   1241\u001b[0m     \u001b[1;32mreturn\u001b[0m \u001b[0mconcrete\u001b[0m\u001b[1;33m\u001b[0m\u001b[1;33m\u001b[0m\u001b[0m\n",
            "\u001b[1;32m~\\AppData\\Roaming\\Python\\Python39\\site-packages\\tensorflow\\python\\eager\\def_function.py\u001b[0m in \u001b[0;36m_get_concrete_function_garbage_collected\u001b[1;34m(self, *args, **kwargs)\u001b[0m\n\u001b[0;32m   1228\u001b[0m       \u001b[1;31m# In this case we have not created variables on the first call. So we can\u001b[0m\u001b[1;33m\u001b[0m\u001b[1;33m\u001b[0m\u001b[0m\n\u001b[0;32m   1229\u001b[0m       \u001b[1;31m# run the first trace but we should fail if variables are created.\u001b[0m\u001b[1;33m\u001b[0m\u001b[1;33m\u001b[0m\u001b[0m\n\u001b[1;32m-> 1230\u001b[1;33m       concrete = self._stateful_fn._get_concrete_function_garbage_collected(  # pylint: disable=protected-access\n\u001b[0m\u001b[0;32m   1231\u001b[0m           *args, **kwargs)\n\u001b[0;32m   1232\u001b[0m       \u001b[1;32mif\u001b[0m \u001b[0mself\u001b[0m\u001b[1;33m.\u001b[0m\u001b[0m_created_variables\u001b[0m\u001b[1;33m:\u001b[0m\u001b[1;33m\u001b[0m\u001b[1;33m\u001b[0m\u001b[0m\n",
            "\u001b[1;32m~\\AppData\\Roaming\\Python\\Python39\\site-packages\\tensorflow\\python\\eager\\function.py\u001b[0m in \u001b[0;36m_get_concrete_function_garbage_collected\u001b[1;34m(self, *args, **kwargs)\u001b[0m\n\u001b[0;32m   2574\u001b[0m       \u001b[0margs\u001b[0m\u001b[1;33m,\u001b[0m \u001b[0mkwargs\u001b[0m \u001b[1;33m=\u001b[0m \u001b[1;32mNone\u001b[0m\u001b[1;33m,\u001b[0m \u001b[1;32mNone\u001b[0m\u001b[1;33m\u001b[0m\u001b[1;33m\u001b[0m\u001b[0m\n\u001b[0;32m   2575\u001b[0m     \u001b[1;32mwith\u001b[0m \u001b[0mself\u001b[0m\u001b[1;33m.\u001b[0m\u001b[0m_lock\u001b[0m\u001b[1;33m:\u001b[0m\u001b[1;33m\u001b[0m\u001b[1;33m\u001b[0m\u001b[0m\n\u001b[1;32m-> 2576\u001b[1;33m       \u001b[0mgraph_function\u001b[0m\u001b[1;33m,\u001b[0m \u001b[0m_\u001b[0m \u001b[1;33m=\u001b[0m \u001b[0mself\u001b[0m\u001b[1;33m.\u001b[0m\u001b[0m_maybe_define_function\u001b[0m\u001b[1;33m(\u001b[0m\u001b[0margs\u001b[0m\u001b[1;33m,\u001b[0m \u001b[0mkwargs\u001b[0m\u001b[1;33m)\u001b[0m\u001b[1;33m\u001b[0m\u001b[1;33m\u001b[0m\u001b[0m\n\u001b[0m\u001b[0;32m   2577\u001b[0m       \u001b[0mseen_names\u001b[0m \u001b[1;33m=\u001b[0m \u001b[0mset\u001b[0m\u001b[1;33m(\u001b[0m\u001b[1;33m)\u001b[0m\u001b[1;33m\u001b[0m\u001b[1;33m\u001b[0m\u001b[0m\n\u001b[0;32m   2578\u001b[0m       captured = object_identity.ObjectIdentitySet(\n",
            "\u001b[1;32m~\\AppData\\Roaming\\Python\\Python39\\site-packages\\tensorflow\\python\\eager\\function.py\u001b[0m in \u001b[0;36m_maybe_define_function\u001b[1;34m(self, args, kwargs)\u001b[0m\n\u001b[0;32m   2758\u001b[0m             \u001b[1;31m# Only get placeholders for arguments, not captures\u001b[0m\u001b[1;33m\u001b[0m\u001b[1;33m\u001b[0m\u001b[0m\n\u001b[0;32m   2759\u001b[0m             \u001b[0margs\u001b[0m\u001b[1;33m,\u001b[0m \u001b[0mkwargs\u001b[0m \u001b[1;33m=\u001b[0m \u001b[0mplaceholder_dict\u001b[0m\u001b[1;33m[\u001b[0m\u001b[1;34m\"args\"\u001b[0m\u001b[1;33m]\u001b[0m\u001b[1;33m\u001b[0m\u001b[1;33m\u001b[0m\u001b[0m\n\u001b[1;32m-> 2760\u001b[1;33m           \u001b[0mgraph_function\u001b[0m \u001b[1;33m=\u001b[0m \u001b[0mself\u001b[0m\u001b[1;33m.\u001b[0m\u001b[0m_create_graph_function\u001b[0m\u001b[1;33m(\u001b[0m\u001b[0margs\u001b[0m\u001b[1;33m,\u001b[0m \u001b[0mkwargs\u001b[0m\u001b[1;33m)\u001b[0m\u001b[1;33m\u001b[0m\u001b[1;33m\u001b[0m\u001b[0m\n\u001b[0m\u001b[0;32m   2761\u001b[0m \u001b[1;33m\u001b[0m\u001b[0m\n\u001b[0;32m   2762\u001b[0m           \u001b[0mgraph_capture_container\u001b[0m \u001b[1;33m=\u001b[0m \u001b[0mgraph_function\u001b[0m\u001b[1;33m.\u001b[0m\u001b[0mgraph\u001b[0m\u001b[1;33m.\u001b[0m\u001b[0m_capture_func_lib\u001b[0m  \u001b[1;31m# pylint: disable=protected-access\u001b[0m\u001b[1;33m\u001b[0m\u001b[1;33m\u001b[0m\u001b[0m\n",
            "\u001b[1;32m~\\AppData\\Roaming\\Python\\Python39\\site-packages\\tensorflow\\python\\eager\\function.py\u001b[0m in \u001b[0;36m_create_graph_function\u001b[1;34m(self, args, kwargs)\u001b[0m\n\u001b[0;32m   2668\u001b[0m     \u001b[0marg_names\u001b[0m \u001b[1;33m=\u001b[0m \u001b[0mbase_arg_names\u001b[0m \u001b[1;33m+\u001b[0m \u001b[0mmissing_arg_names\u001b[0m\u001b[1;33m\u001b[0m\u001b[1;33m\u001b[0m\u001b[0m\n\u001b[0;32m   2669\u001b[0m     graph_function = ConcreteFunction(\n\u001b[1;32m-> 2670\u001b[1;33m         func_graph_module.func_graph_from_py_func(\n\u001b[0m\u001b[0;32m   2671\u001b[0m             \u001b[0mself\u001b[0m\u001b[1;33m.\u001b[0m\u001b[0m_name\u001b[0m\u001b[1;33m,\u001b[0m\u001b[1;33m\u001b[0m\u001b[1;33m\u001b[0m\u001b[0m\n\u001b[0;32m   2672\u001b[0m             \u001b[0mself\u001b[0m\u001b[1;33m.\u001b[0m\u001b[0m_python_function\u001b[0m\u001b[1;33m,\u001b[0m\u001b[1;33m\u001b[0m\u001b[1;33m\u001b[0m\u001b[0m\n",
            "\u001b[1;32m~\\AppData\\Roaming\\Python\\Python39\\site-packages\\tensorflow\\python\\framework\\func_graph.py\u001b[0m in \u001b[0;36mfunc_graph_from_py_func\u001b[1;34m(name, python_func, args, kwargs, signature, func_graph, autograph, autograph_options, add_control_dependencies, arg_names, op_return_value, collections, capture_by_value, acd_record_initial_resource_uses)\u001b[0m\n\u001b[0;32m   1160\u001b[0m       \u001b[0mkwargs\u001b[0m \u001b[1;33m=\u001b[0m \u001b[1;33m{\u001b[0m\u001b[1;33m}\u001b[0m\u001b[1;33m\u001b[0m\u001b[1;33m\u001b[0m\u001b[0m\n\u001b[0;32m   1161\u001b[0m \u001b[1;33m\u001b[0m\u001b[0m\n\u001b[1;32m-> 1162\u001b[1;33m     \u001b[0mfunc_args\u001b[0m \u001b[1;33m=\u001b[0m \u001b[0m_get_defun_inputs_from_args\u001b[0m\u001b[1;33m(\u001b[0m\u001b[0margs\u001b[0m\u001b[1;33m,\u001b[0m \u001b[0marg_names\u001b[0m\u001b[1;33m)\u001b[0m\u001b[1;33m\u001b[0m\u001b[1;33m\u001b[0m\u001b[0m\n\u001b[0m\u001b[0;32m   1163\u001b[0m     \u001b[0mfunc_kwargs\u001b[0m \u001b[1;33m=\u001b[0m \u001b[0m_get_defun_inputs_from_kwargs\u001b[0m\u001b[1;33m(\u001b[0m\u001b[0mkwargs\u001b[0m\u001b[1;33m)\u001b[0m\u001b[1;33m\u001b[0m\u001b[1;33m\u001b[0m\u001b[0m\n\u001b[0;32m   1164\u001b[0m \u001b[1;33m\u001b[0m\u001b[0m\n",
            "\u001b[1;32m~\\AppData\\Roaming\\Python\\Python39\\site-packages\\tensorflow\\python\\framework\\func_graph.py\u001b[0m in \u001b[0;36m_get_defun_inputs_from_args\u001b[1;34m(args, names)\u001b[0m\n\u001b[0;32m   1426\u001b[0m \u001b[1;32mdef\u001b[0m \u001b[0m_get_defun_inputs_from_args\u001b[0m\u001b[1;33m(\u001b[0m\u001b[0margs\u001b[0m\u001b[1;33m,\u001b[0m \u001b[0mnames\u001b[0m\u001b[1;33m)\u001b[0m\u001b[1;33m:\u001b[0m\u001b[1;33m\u001b[0m\u001b[1;33m\u001b[0m\u001b[0m\n\u001b[0;32m   1427\u001b[0m   \u001b[1;34m\"\"\"Maps Python function positional args to graph-construction inputs.\"\"\"\u001b[0m\u001b[1;33m\u001b[0m\u001b[1;33m\u001b[0m\u001b[0m\n\u001b[1;32m-> 1428\u001b[1;33m   \u001b[1;32mreturn\u001b[0m \u001b[0m_get_defun_inputs\u001b[0m\u001b[1;33m(\u001b[0m\u001b[0margs\u001b[0m\u001b[1;33m,\u001b[0m \u001b[0mnames\u001b[0m\u001b[1;33m,\u001b[0m \u001b[0mstructured_args\u001b[0m\u001b[1;33m=\u001b[0m\u001b[0margs\u001b[0m\u001b[1;33m)\u001b[0m\u001b[1;33m\u001b[0m\u001b[1;33m\u001b[0m\u001b[0m\n\u001b[0m\u001b[0;32m   1429\u001b[0m \u001b[1;33m\u001b[0m\u001b[0m\n\u001b[0;32m   1430\u001b[0m \u001b[1;33m\u001b[0m\u001b[0m\n",
            "\u001b[1;32m~\\AppData\\Roaming\\Python\\Python39\\site-packages\\tensorflow\\python\\framework\\func_graph.py\u001b[0m in \u001b[0;36m_get_defun_inputs\u001b[1;34m(args, names, structured_args)\u001b[0m\n\u001b[0;32m   1479\u001b[0m           \u001b[0mrequested_name\u001b[0m \u001b[1;33m=\u001b[0m \u001b[0mname\u001b[0m\u001b[1;33m\u001b[0m\u001b[1;33m\u001b[0m\u001b[0m\n\u001b[0;32m   1480\u001b[0m         \u001b[1;32mtry\u001b[0m\u001b[1;33m:\u001b[0m\u001b[1;33m\u001b[0m\u001b[1;33m\u001b[0m\u001b[0m\n\u001b[1;32m-> 1481\u001b[1;33m           placeholder = graph_placeholder(\n\u001b[0m\u001b[0;32m   1482\u001b[0m               arg.dtype, arg.shape, name=requested_name)\n\u001b[0;32m   1483\u001b[0m         \u001b[1;32mexcept\u001b[0m \u001b[0mValueError\u001b[0m\u001b[1;33m:\u001b[0m\u001b[1;33m\u001b[0m\u001b[1;33m\u001b[0m\u001b[0m\n",
            "\u001b[1;32m~\\AppData\\Roaming\\Python\\Python39\\site-packages\\tensorflow\\python\\eager\\graph_only_ops.py\u001b[0m in \u001b[0;36mgraph_placeholder\u001b[1;34m(dtype, shape, name)\u001b[0m\n\u001b[0;32m     32\u001b[0m   \u001b[0mg\u001b[0m \u001b[1;33m=\u001b[0m \u001b[0mops\u001b[0m\u001b[1;33m.\u001b[0m\u001b[0mget_default_graph\u001b[0m\u001b[1;33m(\u001b[0m\u001b[1;33m)\u001b[0m\u001b[1;33m\u001b[0m\u001b[1;33m\u001b[0m\u001b[0m\n\u001b[0;32m     33\u001b[0m   \u001b[0mattrs\u001b[0m \u001b[1;33m=\u001b[0m \u001b[1;33m{\u001b[0m\u001b[1;34m\"dtype\"\u001b[0m\u001b[1;33m:\u001b[0m \u001b[0mdtype_value\u001b[0m\u001b[1;33m,\u001b[0m \u001b[1;34m\"shape\"\u001b[0m\u001b[1;33m:\u001b[0m \u001b[0mshape\u001b[0m\u001b[1;33m}\u001b[0m\u001b[1;33m\u001b[0m\u001b[1;33m\u001b[0m\u001b[0m\n\u001b[1;32m---> 34\u001b[1;33m   op = g._create_op_internal(  # pylint: disable=protected-access\n\u001b[0m\u001b[0;32m     35\u001b[0m       \u001b[1;34m\"Placeholder\"\u001b[0m\u001b[1;33m,\u001b[0m \u001b[1;33m[\u001b[0m\u001b[1;33m]\u001b[0m\u001b[1;33m,\u001b[0m \u001b[1;33m[\u001b[0m\u001b[0mdtype\u001b[0m\u001b[1;33m]\u001b[0m\u001b[1;33m,\u001b[0m \u001b[0minput_types\u001b[0m\u001b[1;33m=\u001b[0m\u001b[1;33m[\u001b[0m\u001b[1;33m]\u001b[0m\u001b[1;33m,\u001b[0m\u001b[1;33m\u001b[0m\u001b[1;33m\u001b[0m\u001b[0m\n\u001b[0;32m     36\u001b[0m       attrs=attrs, name=name)\n",
            "\u001b[1;32m~\\AppData\\Roaming\\Python\\Python39\\site-packages\\tensorflow\\python\\framework\\func_graph.py\u001b[0m in \u001b[0;36m_create_op_internal\u001b[1;34m(self, op_type, inputs, dtypes, input_types, name, attrs, op_def, compute_device)\u001b[0m\n\u001b[0;32m    733\u001b[0m       \u001b[0minp\u001b[0m \u001b[1;33m=\u001b[0m \u001b[0mself\u001b[0m\u001b[1;33m.\u001b[0m\u001b[0mcapture\u001b[0m\u001b[1;33m(\u001b[0m\u001b[0minp\u001b[0m\u001b[1;33m)\u001b[0m\u001b[1;33m\u001b[0m\u001b[1;33m\u001b[0m\u001b[0m\n\u001b[0;32m    734\u001b[0m       \u001b[0mcaptured_inputs\u001b[0m\u001b[1;33m.\u001b[0m\u001b[0mappend\u001b[0m\u001b[1;33m(\u001b[0m\u001b[0minp\u001b[0m\u001b[1;33m)\u001b[0m\u001b[1;33m\u001b[0m\u001b[1;33m\u001b[0m\u001b[0m\n\u001b[1;32m--> 735\u001b[1;33m     return super(FuncGraph, self)._create_op_internal(  # pylint: disable=protected-access\n\u001b[0m\u001b[0;32m    736\u001b[0m         \u001b[0mop_type\u001b[0m\u001b[1;33m,\u001b[0m \u001b[0mcaptured_inputs\u001b[0m\u001b[1;33m,\u001b[0m \u001b[0mdtypes\u001b[0m\u001b[1;33m,\u001b[0m \u001b[0minput_types\u001b[0m\u001b[1;33m,\u001b[0m \u001b[0mname\u001b[0m\u001b[1;33m,\u001b[0m \u001b[0mattrs\u001b[0m\u001b[1;33m,\u001b[0m \u001b[0mop_def\u001b[0m\u001b[1;33m,\u001b[0m\u001b[1;33m\u001b[0m\u001b[1;33m\u001b[0m\u001b[0m\n\u001b[0;32m    737\u001b[0m         compute_device)\n",
            "\u001b[1;32m~\\AppData\\Roaming\\Python\\Python39\\site-packages\\tensorflow\\python\\framework\\ops.py\u001b[0m in \u001b[0;36m_create_op_internal\u001b[1;34m(self, op_type, inputs, dtypes, input_types, name, attrs, op_def, compute_device)\u001b[0m\n\u001b[0;32m   3798\u001b[0m     \u001b[1;31m# Session.run call cannot occur between creating and mutating the op.\u001b[0m\u001b[1;33m\u001b[0m\u001b[1;33m\u001b[0m\u001b[0m\n\u001b[0;32m   3799\u001b[0m     \u001b[1;32mwith\u001b[0m \u001b[0mself\u001b[0m\u001b[1;33m.\u001b[0m\u001b[0m_mutation_lock\u001b[0m\u001b[1;33m(\u001b[0m\u001b[1;33m)\u001b[0m\u001b[1;33m:\u001b[0m\u001b[1;33m\u001b[0m\u001b[1;33m\u001b[0m\u001b[0m\n\u001b[1;32m-> 3800\u001b[1;33m       ret = Operation(\n\u001b[0m\u001b[0;32m   3801\u001b[0m           \u001b[0mnode_def\u001b[0m\u001b[1;33m,\u001b[0m\u001b[1;33m\u001b[0m\u001b[1;33m\u001b[0m\u001b[0m\n\u001b[0;32m   3802\u001b[0m           \u001b[0mself\u001b[0m\u001b[1;33m,\u001b[0m\u001b[1;33m\u001b[0m\u001b[1;33m\u001b[0m\u001b[0m\n",
            "\u001b[1;32m~\\AppData\\Roaming\\Python\\Python39\\site-packages\\tensorflow\\python\\framework\\ops.py\u001b[0m in \u001b[0;36m__init__\u001b[1;34m(***failed resolving arguments***)\u001b[0m\n\u001b[0;32m   2106\u001b[0m \u001b[1;33m\u001b[0m\u001b[0m\n\u001b[0;32m   2107\u001b[0m     \u001b[1;31m# Initialize c_op from node_def and other inputs\u001b[0m\u001b[1;33m\u001b[0m\u001b[1;33m\u001b[0m\u001b[0m\n\u001b[1;32m-> 2108\u001b[1;33m     \u001b[0mc_op\u001b[0m \u001b[1;33m=\u001b[0m \u001b[0m_create_c_op\u001b[0m\u001b[1;33m(\u001b[0m\u001b[0mg\u001b[0m\u001b[1;33m,\u001b[0m \u001b[0mnode_def\u001b[0m\u001b[1;33m,\u001b[0m \u001b[0minputs\u001b[0m\u001b[1;33m,\u001b[0m \u001b[0mcontrol_input_ops\u001b[0m\u001b[1;33m,\u001b[0m \u001b[0mop_def\u001b[0m\u001b[1;33m=\u001b[0m\u001b[0mop_def\u001b[0m\u001b[1;33m)\u001b[0m\u001b[1;33m\u001b[0m\u001b[1;33m\u001b[0m\u001b[0m\n\u001b[0m\u001b[0;32m   2109\u001b[0m     \u001b[0mself\u001b[0m\u001b[1;33m.\u001b[0m\u001b[0m_init_from_c_op\u001b[0m\u001b[1;33m(\u001b[0m\u001b[0mc_op\u001b[0m\u001b[1;33m=\u001b[0m\u001b[0mc_op\u001b[0m\u001b[1;33m,\u001b[0m \u001b[0mg\u001b[0m\u001b[1;33m=\u001b[0m\u001b[0mg\u001b[0m\u001b[1;33m)\u001b[0m\u001b[1;33m\u001b[0m\u001b[1;33m\u001b[0m\u001b[0m\n\u001b[0;32m   2110\u001b[0m \u001b[1;33m\u001b[0m\u001b[0m\n",
            "\u001b[1;32m~\\AppData\\Roaming\\Python\\Python39\\site-packages\\tensorflow\\python\\util\\traceback_utils.py\u001b[0m in \u001b[0;36merror_handler\u001b[1;34m(*args, **kwargs)\u001b[0m\n\u001b[0;32m    148\u001b[0m     \u001b[0mfiltered_tb\u001b[0m \u001b[1;33m=\u001b[0m \u001b[1;32mNone\u001b[0m\u001b[1;33m\u001b[0m\u001b[1;33m\u001b[0m\u001b[0m\n\u001b[0;32m    149\u001b[0m     \u001b[1;32mtry\u001b[0m\u001b[1;33m:\u001b[0m\u001b[1;33m\u001b[0m\u001b[1;33m\u001b[0m\u001b[0m\n\u001b[1;32m--> 150\u001b[1;33m       \u001b[1;32mreturn\u001b[0m \u001b[0mfn\u001b[0m\u001b[1;33m(\u001b[0m\u001b[1;33m*\u001b[0m\u001b[0margs\u001b[0m\u001b[1;33m,\u001b[0m \u001b[1;33m**\u001b[0m\u001b[0mkwargs\u001b[0m\u001b[1;33m)\u001b[0m\u001b[1;33m\u001b[0m\u001b[1;33m\u001b[0m\u001b[0m\n\u001b[0m\u001b[0;32m    151\u001b[0m     \u001b[1;32mexcept\u001b[0m \u001b[0mException\u001b[0m \u001b[1;32mas\u001b[0m \u001b[0me\u001b[0m\u001b[1;33m:\u001b[0m\u001b[1;33m\u001b[0m\u001b[1;33m\u001b[0m\u001b[0m\n\u001b[0;32m    152\u001b[0m       \u001b[0mfiltered_tb\u001b[0m \u001b[1;33m=\u001b[0m \u001b[0m_process_traceback_frames\u001b[0m\u001b[1;33m(\u001b[0m\u001b[0me\u001b[0m\u001b[1;33m.\u001b[0m\u001b[0m__traceback__\u001b[0m\u001b[1;33m)\u001b[0m\u001b[1;33m\u001b[0m\u001b[1;33m\u001b[0m\u001b[0m\n",
            "\u001b[1;32m~\\AppData\\Roaming\\Python\\Python39\\site-packages\\tensorflow\\python\\framework\\ops.py\u001b[0m in \u001b[0;36m_create_c_op\u001b[1;34m(graph, node_def, inputs, control_inputs, op_def, extract_traceback)\u001b[0m\n\u001b[0;32m   1931\u001b[0m   \"\"\"\n\u001b[0;32m   1932\u001b[0m   \u001b[1;32mif\u001b[0m \u001b[0mop_def\u001b[0m \u001b[1;32mis\u001b[0m \u001b[1;32mNone\u001b[0m\u001b[1;33m:\u001b[0m\u001b[1;33m\u001b[0m\u001b[1;33m\u001b[0m\u001b[0m\n\u001b[1;32m-> 1933\u001b[1;33m     \u001b[0mop_def\u001b[0m \u001b[1;33m=\u001b[0m \u001b[0mgraph\u001b[0m\u001b[1;33m.\u001b[0m\u001b[0m_get_op_def\u001b[0m\u001b[1;33m(\u001b[0m\u001b[0mnode_def\u001b[0m\u001b[1;33m.\u001b[0m\u001b[0mop\u001b[0m\u001b[1;33m)\u001b[0m  \u001b[1;31m# pylint: disable=protected-access\u001b[0m\u001b[1;33m\u001b[0m\u001b[1;33m\u001b[0m\u001b[0m\n\u001b[0m\u001b[0;32m   1934\u001b[0m   \u001b[1;31m# TODO(skyewm): op_def_library.apply_op() flattens the incoming inputs.\u001b[0m\u001b[1;33m\u001b[0m\u001b[1;33m\u001b[0m\u001b[0m\n\u001b[0;32m   1935\u001b[0m   \u001b[1;31m# Refactor so we don't have to do this here.\u001b[0m\u001b[1;33m\u001b[0m\u001b[1;33m\u001b[0m\u001b[0m\n",
            "\u001b[1;32m~\\AppData\\Roaming\\Python\\Python39\\site-packages\\tensorflow\\python\\framework\\ops.py\u001b[0m in \u001b[0;36m_get_op_def\u001b[1;34m(self, type)\u001b[0m\n\u001b[0;32m   4203\u001b[0m       \u001b[1;32mwith\u001b[0m \u001b[0mc_api_util\u001b[0m\u001b[1;33m.\u001b[0m\u001b[0mtf_buffer\u001b[0m\u001b[1;33m(\u001b[0m\u001b[1;33m)\u001b[0m \u001b[1;32mas\u001b[0m \u001b[0mbuf\u001b[0m\u001b[1;33m:\u001b[0m\u001b[1;33m\u001b[0m\u001b[1;33m\u001b[0m\u001b[0m\n\u001b[0;32m   4204\u001b[0m         \u001b[1;32mwith\u001b[0m \u001b[0mself\u001b[0m\u001b[1;33m.\u001b[0m\u001b[0m_c_graph\u001b[0m\u001b[1;33m.\u001b[0m\u001b[0mget\u001b[0m\u001b[1;33m(\u001b[0m\u001b[1;33m)\u001b[0m \u001b[1;32mas\u001b[0m \u001b[0mc_graph\u001b[0m\u001b[1;33m:\u001b[0m\u001b[1;33m\u001b[0m\u001b[1;33m\u001b[0m\u001b[0m\n\u001b[1;32m-> 4205\u001b[1;33m           pywrap_tf_session.TF_GraphGetOpDef(c_graph, compat.as_bytes(type),\n\u001b[0m\u001b[0;32m   4206\u001b[0m                                              buf)\n\u001b[0;32m   4207\u001b[0m         \u001b[0mdata\u001b[0m \u001b[1;33m=\u001b[0m \u001b[0mpywrap_tf_session\u001b[0m\u001b[1;33m.\u001b[0m\u001b[0mTF_GetBuffer\u001b[0m\u001b[1;33m(\u001b[0m\u001b[0mbuf\u001b[0m\u001b[1;33m)\u001b[0m\u001b[1;33m\u001b[0m\u001b[1;33m\u001b[0m\u001b[0m\n",
            "\u001b[1;31mKeyboardInterrupt\u001b[0m: "
          ]
        }
      ],
      "source": [
        "plot_model(model=multi_head_cnn_lstm_model, show_shapes=True)\n",
        "history = multi_head_cnn_lstm_model.fit(X_train, y_train, epochs=epochs, batch_size=batch_size, validation_split=validation,callbacks=[early_stopping_callback, checkpoint_callback, rlrop_callback])\n",
        "yhat = multi_head_cnn_lstm_model.predict(X_test, verbose=0)\n",
        "yhat_inverse, y_test_inverse = inverse_transform(y_test, yhat)\n",
        "evaluate_forecast(y_test_inverse, yhat_inverse)"
      ]
    },
    {
      "cell_type": "code",
      "execution_count": 18,
      "metadata": {},
      "outputs": [],
      "source": [
        "num_samples = 6624"
      ]
    },
    {
      "cell_type": "code",
      "execution_count": 19,
      "metadata": {},
      "outputs": [
        {
          "ename": "AttributeError",
          "evalue": "The layer \"conv3d\" has never been called and thus has no defined output shape.",
          "output_type": "error",
          "traceback": [
            "\u001b[1;31m---------------------------------------------------------------------------\u001b[0m",
            "\u001b[1;31mAttributeError\u001b[0m                            Traceback (most recent call last)",
            "\u001b[1;32m<ipython-input-19-0dc69da2878e>\u001b[0m in \u001b[0;36m<module>\u001b[1;34m\u001b[0m\n\u001b[0;32m     17\u001b[0m \u001b[1;33m\u001b[0m\u001b[0m\n\u001b[0;32m     18\u001b[0m \u001b[1;31m# Print the output shape\u001b[0m\u001b[1;33m\u001b[0m\u001b[1;33m\u001b[0m\u001b[0m\n\u001b[1;32m---> 19\u001b[1;33m \u001b[0mprint\u001b[0m\u001b[1;33m(\u001b[0m\u001b[0mconv_layer\u001b[0m\u001b[1;33m.\u001b[0m\u001b[0moutput_shape\u001b[0m\u001b[1;33m)\u001b[0m\u001b[1;33m\u001b[0m\u001b[1;33m\u001b[0m\u001b[0m\n\u001b[0m",
            "\u001b[1;32m~\\AppData\\Roaming\\Python\\Python39\\site-packages\\keras\\engine\\base_layer.py\u001b[0m in \u001b[0;36moutput_shape\u001b[1;34m(self)\u001b[0m\n\u001b[0;32m   2130\u001b[0m         \"\"\"\n\u001b[0;32m   2131\u001b[0m         \u001b[1;32mif\u001b[0m \u001b[1;32mnot\u001b[0m \u001b[0mself\u001b[0m\u001b[1;33m.\u001b[0m\u001b[0m_inbound_nodes\u001b[0m\u001b[1;33m:\u001b[0m\u001b[1;33m\u001b[0m\u001b[1;33m\u001b[0m\u001b[0m\n\u001b[1;32m-> 2132\u001b[1;33m             raise AttributeError(\n\u001b[0m\u001b[0;32m   2133\u001b[0m                 \u001b[1;34mf'The layer \"{self.name}\" has never been called '\u001b[0m\u001b[1;33m\u001b[0m\u001b[1;33m\u001b[0m\u001b[0m\n\u001b[0;32m   2134\u001b[0m                 \u001b[1;34m\"and thus has no defined output shape.\"\u001b[0m\u001b[1;33m\u001b[0m\u001b[1;33m\u001b[0m\u001b[0m\n",
            "\u001b[1;31mAttributeError\u001b[0m: The layer \"conv3d\" has never been called and thus has no defined output shape."
          ]
        }
      ],
      "source": [
        "# import keras\n",
        "# from keras.layers import Conv3D\n",
        "\n",
        "# # Define the input shape for the data\n",
        "# input_shape = (num_samples, 2, 22, 1)\n",
        "\n",
        "# # Define the number of filters and the kernel size\n",
        "# num_filters = 32\n",
        "# kernel_size = (2, 22, 1)\n",
        "\n",
        "# # Define the stride and padding\n",
        "# stride = (1, 1, 1)\n",
        "# padding = 'same'\n",
        "\n",
        "# # Create the convolutional layer\n",
        "# conv_layer = Conv3D(num_filters, kernel_size, strides=stride, padding=padding, input_shape=input_shape)\n",
        "\n",
        "\n"
      ]
    },
    {
      "cell_type": "code",
      "execution_count": null,
      "metadata": {
        "id": "6H1GNodMYpm8"
      },
      "outputs": [],
      "source": [
        "#save model with scaling normalization\n",
        "multi_head_cnn_lstm_model.save('/content/drive/MyDrive/dataset/scaled_multi_head_cnn_lstm_model.h5')"
      ]
    },
    {
      "cell_type": "code",
      "execution_count": null,
      "metadata": {
        "id": "uYPjPY3cS2uw"
      },
      "outputs": [],
      "source": [
        "# plot_model(model=multi_head_cnn_lstm_model, show_shapes=True)\n",
        "# history = multi_head_cnn_lstm_model.fit(X_train, y_train, epochs=epochs, batch_size=batch_size, validation_split=validation,callbacks=[checkpoint_callback, rlrop_callback])\n",
        "# yhat = multi_head_cnn_lstm_model.predict(X_test, verbose=0)\n",
        "# yhat_inverse, y_test_inverse = inverse_transform(y_test, yhat)\n",
        "# evaluate_forecast(y_test_inverse, yhat_inverse)"
      ]
    },
    {
      "cell_type": "code",
      "execution_count": null,
      "metadata": {
        "colab": {
          "base_uri": "https://localhost:8080/"
        },
        "id": "Csn6XTtKEobe",
        "outputId": "56e808f1-13d4-464f-d47e-8cc049d23013"
      },
      "outputs": [
        {
          "name": "stdout",
          "output_type": "stream",
          "text": [
            "mae: tf.Tensor(0.23641124, shape=(), dtype=float32)\n",
            "mse: tf.Tensor(0.61856437, shape=(), dtype=float32)\n",
            "mape: tf.Tensor(113829970.0, shape=(), dtype=float32)\n"
          ]
        }
      ],
      "source": [
        "# evaluate_forecast(y_test_inverse, yhat_inverse)"
      ]
    },
    {
      "cell_type": "code",
      "execution_count": 25,
      "metadata": {
        "id": "I_stySpzFyQF"
      },
      "outputs": [],
      "source": [
        "multi_head_cnn_lstm_model.save('multi_head_cnn_lstm_model.h5') "
      ]
    },
    {
      "cell_type": "code",
      "execution_count": 27,
      "metadata": {
        "colab": {
          "base_uri": "https://localhost:8080/"
        },
        "id": "CdxwfhH5GM33",
        "outputId": "0cdcc33b-34cc-42b4-84e9-a766f8f49f02"
      },
      "outputs": [
        {
          "name": "stdout",
          "output_type": "stream",
          "text": [
            "Model: \"model_1\"\n",
            "__________________________________________________________________________________________________\n",
            " Layer (type)                   Output Shape         Param #     Connected to                     \n",
            "==================================================================================================\n",
            " input_2 (InputLayer)           [(None, 24, 24)]     0           []                               \n",
            "                                                                                                  \n",
            " conv1d_48 (Conv1D)             (None, 18, 4)        676         ['input_2[0][0]']                \n",
            "                                                                                                  \n",
            " conv1d_50 (Conv1D)             (None, 18, 4)        676         ['input_2[0][0]']                \n",
            "                                                                                                  \n",
            " conv1d_52 (Conv1D)             (None, 18, 4)        676         ['input_2[0][0]']                \n",
            "                                                                                                  \n",
            " conv1d_54 (Conv1D)             (None, 18, 4)        676         ['input_2[0][0]']                \n",
            "                                                                                                  \n",
            " conv1d_56 (Conv1D)             (None, 18, 4)        676         ['input_2[0][0]']                \n",
            "                                                                                                  \n",
            " conv1d_58 (Conv1D)             (None, 18, 4)        676         ['input_2[0][0]']                \n",
            "                                                                                                  \n",
            " conv1d_60 (Conv1D)             (None, 18, 4)        676         ['input_2[0][0]']                \n",
            "                                                                                                  \n",
            " conv1d_62 (Conv1D)             (None, 18, 4)        676         ['input_2[0][0]']                \n",
            "                                                                                                  \n",
            " conv1d_64 (Conv1D)             (None, 18, 4)        676         ['input_2[0][0]']                \n",
            "                                                                                                  \n",
            " conv1d_66 (Conv1D)             (None, 18, 4)        676         ['input_2[0][0]']                \n",
            "                                                                                                  \n",
            " conv1d_68 (Conv1D)             (None, 18, 4)        676         ['input_2[0][0]']                \n",
            "                                                                                                  \n",
            " conv1d_70 (Conv1D)             (None, 18, 4)        676         ['input_2[0][0]']                \n",
            "                                                                                                  \n",
            " conv1d_72 (Conv1D)             (None, 18, 4)        676         ['input_2[0][0]']                \n",
            "                                                                                                  \n",
            " conv1d_74 (Conv1D)             (None, 18, 4)        676         ['input_2[0][0]']                \n",
            "                                                                                                  \n",
            " conv1d_76 (Conv1D)             (None, 18, 4)        676         ['input_2[0][0]']                \n",
            "                                                                                                  \n",
            " conv1d_78 (Conv1D)             (None, 18, 4)        676         ['input_2[0][0]']                \n",
            "                                                                                                  \n",
            " conv1d_80 (Conv1D)             (None, 18, 4)        676         ['input_2[0][0]']                \n",
            "                                                                                                  \n",
            " conv1d_82 (Conv1D)             (None, 18, 4)        676         ['input_2[0][0]']                \n",
            "                                                                                                  \n",
            " conv1d_84 (Conv1D)             (None, 18, 4)        676         ['input_2[0][0]']                \n",
            "                                                                                                  \n",
            " conv1d_86 (Conv1D)             (None, 18, 4)        676         ['input_2[0][0]']                \n",
            "                                                                                                  \n",
            " conv1d_88 (Conv1D)             (None, 18, 4)        676         ['input_2[0][0]']                \n",
            "                                                                                                  \n",
            " conv1d_90 (Conv1D)             (None, 18, 4)        676         ['input_2[0][0]']                \n",
            "                                                                                                  \n",
            " conv1d_92 (Conv1D)             (None, 18, 4)        676         ['input_2[0][0]']                \n",
            "                                                                                                  \n",
            " conv1d_94 (Conv1D)             (None, 18, 4)        676         ['input_2[0][0]']                \n",
            "                                                                                                  \n",
            " conv1d_49 (Conv1D)             (None, 8, 6)         270         ['conv1d_48[0][0]']              \n",
            "                                                                                                  \n",
            " conv1d_51 (Conv1D)             (None, 8, 6)         270         ['conv1d_50[0][0]']              \n",
            "                                                                                                  \n",
            " conv1d_53 (Conv1D)             (None, 8, 6)         270         ['conv1d_52[0][0]']              \n",
            "                                                                                                  \n",
            " conv1d_55 (Conv1D)             (None, 8, 6)         270         ['conv1d_54[0][0]']              \n",
            "                                                                                                  \n",
            " conv1d_57 (Conv1D)             (None, 8, 6)         270         ['conv1d_56[0][0]']              \n",
            "                                                                                                  \n",
            " conv1d_59 (Conv1D)             (None, 8, 6)         270         ['conv1d_58[0][0]']              \n",
            "                                                                                                  \n",
            " conv1d_61 (Conv1D)             (None, 8, 6)         270         ['conv1d_60[0][0]']              \n",
            "                                                                                                  \n",
            " conv1d_63 (Conv1D)             (None, 8, 6)         270         ['conv1d_62[0][0]']              \n",
            "                                                                                                  \n",
            " conv1d_65 (Conv1D)             (None, 8, 6)         270         ['conv1d_64[0][0]']              \n",
            "                                                                                                  \n",
            " conv1d_67 (Conv1D)             (None, 8, 6)         270         ['conv1d_66[0][0]']              \n",
            "                                                                                                  \n",
            " conv1d_69 (Conv1D)             (None, 8, 6)         270         ['conv1d_68[0][0]']              \n",
            "                                                                                                  \n",
            " conv1d_71 (Conv1D)             (None, 8, 6)         270         ['conv1d_70[0][0]']              \n",
            "                                                                                                  \n",
            " conv1d_73 (Conv1D)             (None, 8, 6)         270         ['conv1d_72[0][0]']              \n",
            "                                                                                                  \n",
            " conv1d_75 (Conv1D)             (None, 8, 6)         270         ['conv1d_74[0][0]']              \n",
            "                                                                                                  \n",
            " conv1d_77 (Conv1D)             (None, 8, 6)         270         ['conv1d_76[0][0]']              \n",
            "                                                                                                  \n",
            " conv1d_79 (Conv1D)             (None, 8, 6)         270         ['conv1d_78[0][0]']              \n",
            "                                                                                                  \n",
            " conv1d_81 (Conv1D)             (None, 8, 6)         270         ['conv1d_80[0][0]']              \n",
            "                                                                                                  \n",
            " conv1d_83 (Conv1D)             (None, 8, 6)         270         ['conv1d_82[0][0]']              \n",
            "                                                                                                  \n",
            " conv1d_85 (Conv1D)             (None, 8, 6)         270         ['conv1d_84[0][0]']              \n",
            "                                                                                                  \n",
            " conv1d_87 (Conv1D)             (None, 8, 6)         270         ['conv1d_86[0][0]']              \n",
            "                                                                                                  \n",
            " conv1d_89 (Conv1D)             (None, 8, 6)         270         ['conv1d_88[0][0]']              \n",
            "                                                                                                  \n",
            " conv1d_91 (Conv1D)             (None, 8, 6)         270         ['conv1d_90[0][0]']              \n",
            "                                                                                                  \n",
            " conv1d_93 (Conv1D)             (None, 8, 6)         270         ['conv1d_92[0][0]']              \n",
            "                                                                                                  \n",
            " conv1d_95 (Conv1D)             (None, 8, 6)         270         ['conv1d_94[0][0]']              \n",
            "                                                                                                  \n",
            " flatten_24 (Flatten)           (None, 48)           0           ['conv1d_49[0][0]']              \n",
            "                                                                                                  \n",
            " flatten_25 (Flatten)           (None, 48)           0           ['conv1d_51[0][0]']              \n",
            "                                                                                                  \n",
            " flatten_26 (Flatten)           (None, 48)           0           ['conv1d_53[0][0]']              \n",
            "                                                                                                  \n",
            " flatten_27 (Flatten)           (None, 48)           0           ['conv1d_55[0][0]']              \n",
            "                                                                                                  \n",
            " flatten_28 (Flatten)           (None, 48)           0           ['conv1d_57[0][0]']              \n",
            "                                                                                                  \n",
            " flatten_29 (Flatten)           (None, 48)           0           ['conv1d_59[0][0]']              \n",
            "                                                                                                  \n",
            " flatten_30 (Flatten)           (None, 48)           0           ['conv1d_61[0][0]']              \n",
            "                                                                                                  \n",
            " flatten_31 (Flatten)           (None, 48)           0           ['conv1d_63[0][0]']              \n",
            "                                                                                                  \n",
            " flatten_32 (Flatten)           (None, 48)           0           ['conv1d_65[0][0]']              \n",
            "                                                                                                  \n",
            " flatten_33 (Flatten)           (None, 48)           0           ['conv1d_67[0][0]']              \n",
            "                                                                                                  \n",
            " flatten_34 (Flatten)           (None, 48)           0           ['conv1d_69[0][0]']              \n",
            "                                                                                                  \n",
            " flatten_35 (Flatten)           (None, 48)           0           ['conv1d_71[0][0]']              \n",
            "                                                                                                  \n",
            " flatten_36 (Flatten)           (None, 48)           0           ['conv1d_73[0][0]']              \n",
            "                                                                                                  \n",
            " flatten_37 (Flatten)           (None, 48)           0           ['conv1d_75[0][0]']              \n",
            "                                                                                                  \n",
            " flatten_38 (Flatten)           (None, 48)           0           ['conv1d_77[0][0]']              \n",
            "                                                                                                  \n",
            " flatten_39 (Flatten)           (None, 48)           0           ['conv1d_79[0][0]']              \n",
            "                                                                                                  \n",
            " flatten_40 (Flatten)           (None, 48)           0           ['conv1d_81[0][0]']              \n",
            "                                                                                                  \n",
            " flatten_41 (Flatten)           (None, 48)           0           ['conv1d_83[0][0]']              \n",
            "                                                                                                  \n",
            " flatten_42 (Flatten)           (None, 48)           0           ['conv1d_85[0][0]']              \n",
            "                                                                                                  \n",
            " flatten_43 (Flatten)           (None, 48)           0           ['conv1d_87[0][0]']              \n",
            "                                                                                                  \n",
            " flatten_44 (Flatten)           (None, 48)           0           ['conv1d_89[0][0]']              \n",
            "                                                                                                  \n",
            " flatten_45 (Flatten)           (None, 48)           0           ['conv1d_91[0][0]']              \n",
            "                                                                                                  \n",
            " flatten_46 (Flatten)           (None, 48)           0           ['conv1d_93[0][0]']              \n",
            "                                                                                                  \n",
            " flatten_47 (Flatten)           (None, 48)           0           ['conv1d_95[0][0]']              \n",
            "                                                                                                  \n",
            " concatenate_1 (Concatenate)    (None, 1152)         0           ['flatten_24[0][0]',             \n",
            "                                                                  'flatten_25[0][0]',             \n",
            "                                                                  'flatten_26[0][0]',             \n",
            "                                                                  'flatten_27[0][0]',             \n",
            "                                                                  'flatten_28[0][0]',             \n",
            "                                                                  'flatten_29[0][0]',             \n",
            "                                                                  'flatten_30[0][0]',             \n",
            "                                                                  'flatten_31[0][0]',             \n",
            "                                                                  'flatten_32[0][0]',             \n",
            "                                                                  'flatten_33[0][0]',             \n",
            "                                                                  'flatten_34[0][0]',             \n",
            "                                                                  'flatten_35[0][0]',             \n",
            "                                                                  'flatten_36[0][0]',             \n",
            "                                                                  'flatten_37[0][0]',             \n",
            "                                                                  'flatten_38[0][0]',             \n",
            "                                                                  'flatten_39[0][0]',             \n",
            "                                                                  'flatten_40[0][0]',             \n",
            "                                                                  'flatten_41[0][0]',             \n",
            "                                                                  'flatten_42[0][0]',             \n",
            "                                                                  'flatten_43[0][0]',             \n",
            "                                                                  'flatten_44[0][0]',             \n",
            "                                                                  'flatten_45[0][0]',             \n",
            "                                                                  'flatten_46[0][0]',             \n",
            "                                                                  'flatten_47[0][0]']             \n",
            "                                                                                                  \n",
            " reshape_1 (Reshape)            (None, 48, 24)       0           ['concatenate_1[0][0]']          \n",
            "                                                                                                  \n",
            " lstm_2 (LSTM)                  (None, 100)          50000       ['reshape_1[0][0]']              \n",
            "                                                                                                  \n",
            " repeat_vector_1 (RepeatVector)  (None, 4, 100)      0           ['lstm_2[0][0]']                 \n",
            "                                                                                                  \n",
            " lstm_3 (LSTM)                  (None, 4, 100)       80400       ['repeat_vector_1[0][0]']        \n",
            "                                                                                                  \n",
            " dropout_1 (Dropout)            (None, 4, 100)       0           ['lstm_3[0][0]']                 \n",
            "                                                                                                  \n",
            " dense_1 (Dense)                (None, 4, 24)        2424        ['dropout_1[0][0]']              \n",
            "                                                                                                  \n",
            "==================================================================================================\n",
            "Total params: 155,528\n",
            "Trainable params: 155,528\n",
            "Non-trainable params: 0\n",
            "__________________________________________________________________________________________________\n"
          ]
        }
      ],
      "source": [
        "multi_head_cnn_lstm_model = tf.keras.models.load_model('multi_head_cnn_lstm_model.h5')\n",
        "\n",
        "# Show the model architecture\n",
        "multi_head_cnn_lstm_model.summary()"
      ]
    },
    {
      "cell_type": "code",
      "execution_count": 15,
      "metadata": {
        "id": "2OAIOwDrM4x0"
      },
      "outputs": [],
      "source": [
        "test2 = pd.read_csv('trial_data_29_30.csv')"
      ]
    },
    {
      "cell_type": "code",
      "execution_count": 16,
      "metadata": {},
      "outputs": [],
      "source": [
        "test2.drop(columns=['Stop_Time'],inplace=True)\n"
      ]
    },
    {
      "cell_type": "code",
      "execution_count": 17,
      "metadata": {
        "colab": {
          "base_uri": "https://localhost:8080/",
          "height": 508
        },
        "id": "eHF2IrVZhDQx",
        "outputId": "7069567e-ee0d-4be4-b11c-012f63ff0ae4"
      },
      "outputs": [
        {
          "data": {
            "text/html": [
              "<div>\n",
              "<style scoped>\n",
              "    .dataframe tbody tr th:only-of-type {\n",
              "        vertical-align: middle;\n",
              "    }\n",
              "\n",
              "    .dataframe tbody tr th {\n",
              "        vertical-align: top;\n",
              "    }\n",
              "\n",
              "    .dataframe thead th {\n",
              "        text-align: right;\n",
              "    }\n",
              "</style>\n",
              "<table border=\"1\" class=\"dataframe\">\n",
              "  <thead>\n",
              "    <tr style=\"text-align: right;\">\n",
              "      <th></th>\n",
              "      <th>Time_Since_Morning</th>\n",
              "      <th>Station_Name_1-Stop_Reason_1-Remark_1</th>\n",
              "      <th>Station_Name_1-Stop_Reason_3-Remark_12</th>\n",
              "      <th>Station_Name_1-Stop_Reason_3-Remark_5</th>\n",
              "      <th>Station_Name_2-Stop_Reason_2-Remark_2</th>\n",
              "      <th>Station_Name_3-Stop_Reason_3-Remark_11</th>\n",
              "      <th>Station_Name_3-Stop_Reason_3-Remark_3</th>\n",
              "      <th>Station_Name_3-Stop_Reason_3-Remark_8</th>\n",
              "      <th>Station_Name_3-Stop_Reason_3-Remark_9</th>\n",
              "      <th>Station_Name_3-Stop_Reason_4-Remark_4</th>\n",
              "      <th>...</th>\n",
              "      <th>Station_Name_5-Stop_Reason_3-Remark_6</th>\n",
              "      <th>Station_Name_5-Stop_Reason_4-Remark_4</th>\n",
              "      <th>Station_Name_6-Stop_Reason_4-Remark_4</th>\n",
              "      <th>Station_Name_7-Stop_Reason_4-Remark_4</th>\n",
              "      <th>Station_Name_8-Stop_Reason_3-Remark_14</th>\n",
              "      <th>Station_Name_8-Stop_Reason_4-Remark_4</th>\n",
              "      <th>Station_Name_9-Stop_Reason_3-Remark_13</th>\n",
              "      <th>Station_Name_9-Stop_Reason_3-Remark_7</th>\n",
              "      <th>Station_Name_9-Stop_Reason_4-Remark_4</th>\n",
              "      <th>Time_Since_Shift_Start</th>\n",
              "    </tr>\n",
              "  </thead>\n",
              "  <tbody>\n",
              "    <tr>\n",
              "      <th>0</th>\n",
              "      <td>1.0</td>\n",
              "      <td>7</td>\n",
              "      <td>0</td>\n",
              "      <td>0</td>\n",
              "      <td>5</td>\n",
              "      <td>0</td>\n",
              "      <td>4</td>\n",
              "      <td>0</td>\n",
              "      <td>0</td>\n",
              "      <td>1</td>\n",
              "      <td>...</td>\n",
              "      <td>0</td>\n",
              "      <td>1</td>\n",
              "      <td>0</td>\n",
              "      <td>0</td>\n",
              "      <td>0</td>\n",
              "      <td>0</td>\n",
              "      <td>0</td>\n",
              "      <td>0</td>\n",
              "      <td>0</td>\n",
              "      <td>1.0</td>\n",
              "    </tr>\n",
              "    <tr>\n",
              "      <th>1</th>\n",
              "      <td>2.0</td>\n",
              "      <td>17</td>\n",
              "      <td>0</td>\n",
              "      <td>3</td>\n",
              "      <td>6</td>\n",
              "      <td>0</td>\n",
              "      <td>1</td>\n",
              "      <td>0</td>\n",
              "      <td>0</td>\n",
              "      <td>1</td>\n",
              "      <td>...</td>\n",
              "      <td>1</td>\n",
              "      <td>0</td>\n",
              "      <td>3</td>\n",
              "      <td>2</td>\n",
              "      <td>0</td>\n",
              "      <td>0</td>\n",
              "      <td>0</td>\n",
              "      <td>0</td>\n",
              "      <td>0</td>\n",
              "      <td>2.0</td>\n",
              "    </tr>\n",
              "    <tr>\n",
              "      <th>2</th>\n",
              "      <td>3.0</td>\n",
              "      <td>11</td>\n",
              "      <td>0</td>\n",
              "      <td>0</td>\n",
              "      <td>6</td>\n",
              "      <td>0</td>\n",
              "      <td>0</td>\n",
              "      <td>0</td>\n",
              "      <td>0</td>\n",
              "      <td>1</td>\n",
              "      <td>...</td>\n",
              "      <td>0</td>\n",
              "      <td>2</td>\n",
              "      <td>3</td>\n",
              "      <td>2</td>\n",
              "      <td>0</td>\n",
              "      <td>2</td>\n",
              "      <td>0</td>\n",
              "      <td>0</td>\n",
              "      <td>0</td>\n",
              "      <td>3.0</td>\n",
              "    </tr>\n",
              "    <tr>\n",
              "      <th>3</th>\n",
              "      <td>4.0</td>\n",
              "      <td>7</td>\n",
              "      <td>0</td>\n",
              "      <td>0</td>\n",
              "      <td>6</td>\n",
              "      <td>0</td>\n",
              "      <td>0</td>\n",
              "      <td>0</td>\n",
              "      <td>0</td>\n",
              "      <td>1</td>\n",
              "      <td>...</td>\n",
              "      <td>0</td>\n",
              "      <td>0</td>\n",
              "      <td>2</td>\n",
              "      <td>1</td>\n",
              "      <td>0</td>\n",
              "      <td>1</td>\n",
              "      <td>0</td>\n",
              "      <td>0</td>\n",
              "      <td>0</td>\n",
              "      <td>4.0</td>\n",
              "    </tr>\n",
              "    <tr>\n",
              "      <th>4</th>\n",
              "      <td>5.0</td>\n",
              "      <td>6</td>\n",
              "      <td>0</td>\n",
              "      <td>3</td>\n",
              "      <td>6</td>\n",
              "      <td>0</td>\n",
              "      <td>0</td>\n",
              "      <td>0</td>\n",
              "      <td>0</td>\n",
              "      <td>0</td>\n",
              "      <td>...</td>\n",
              "      <td>0</td>\n",
              "      <td>2</td>\n",
              "      <td>4</td>\n",
              "      <td>0</td>\n",
              "      <td>0</td>\n",
              "      <td>0</td>\n",
              "      <td>0</td>\n",
              "      <td>0</td>\n",
              "      <td>1</td>\n",
              "      <td>5.0</td>\n",
              "    </tr>\n",
              "  </tbody>\n",
              "</table>\n",
              "<p>5 rows × 22 columns</p>\n",
              "</div>"
            ],
            "text/plain": [
              "   Time_Since_Morning  Station_Name_1-Stop_Reason_1-Remark_1  \\\n",
              "0                 1.0                                      7   \n",
              "1                 2.0                                     17   \n",
              "2                 3.0                                     11   \n",
              "3                 4.0                                      7   \n",
              "4                 5.0                                      6   \n",
              "\n",
              "   Station_Name_1-Stop_Reason_3-Remark_12  \\\n",
              "0                                       0   \n",
              "1                                       0   \n",
              "2                                       0   \n",
              "3                                       0   \n",
              "4                                       0   \n",
              "\n",
              "   Station_Name_1-Stop_Reason_3-Remark_5  \\\n",
              "0                                      0   \n",
              "1                                      3   \n",
              "2                                      0   \n",
              "3                                      0   \n",
              "4                                      3   \n",
              "\n",
              "   Station_Name_2-Stop_Reason_2-Remark_2  \\\n",
              "0                                      5   \n",
              "1                                      6   \n",
              "2                                      6   \n",
              "3                                      6   \n",
              "4                                      6   \n",
              "\n",
              "   Station_Name_3-Stop_Reason_3-Remark_11  \\\n",
              "0                                       0   \n",
              "1                                       0   \n",
              "2                                       0   \n",
              "3                                       0   \n",
              "4                                       0   \n",
              "\n",
              "   Station_Name_3-Stop_Reason_3-Remark_3  \\\n",
              "0                                      4   \n",
              "1                                      1   \n",
              "2                                      0   \n",
              "3                                      0   \n",
              "4                                      0   \n",
              "\n",
              "   Station_Name_3-Stop_Reason_3-Remark_8  \\\n",
              "0                                      0   \n",
              "1                                      0   \n",
              "2                                      0   \n",
              "3                                      0   \n",
              "4                                      0   \n",
              "\n",
              "   Station_Name_3-Stop_Reason_3-Remark_9  \\\n",
              "0                                      0   \n",
              "1                                      0   \n",
              "2                                      0   \n",
              "3                                      0   \n",
              "4                                      0   \n",
              "\n",
              "   Station_Name_3-Stop_Reason_4-Remark_4  ...  \\\n",
              "0                                      1  ...   \n",
              "1                                      1  ...   \n",
              "2                                      1  ...   \n",
              "3                                      1  ...   \n",
              "4                                      0  ...   \n",
              "\n",
              "   Station_Name_5-Stop_Reason_3-Remark_6  \\\n",
              "0                                      0   \n",
              "1                                      1   \n",
              "2                                      0   \n",
              "3                                      0   \n",
              "4                                      0   \n",
              "\n",
              "   Station_Name_5-Stop_Reason_4-Remark_4  \\\n",
              "0                                      1   \n",
              "1                                      0   \n",
              "2                                      2   \n",
              "3                                      0   \n",
              "4                                      2   \n",
              "\n",
              "   Station_Name_6-Stop_Reason_4-Remark_4  \\\n",
              "0                                      0   \n",
              "1                                      3   \n",
              "2                                      3   \n",
              "3                                      2   \n",
              "4                                      4   \n",
              "\n",
              "   Station_Name_7-Stop_Reason_4-Remark_4  \\\n",
              "0                                      0   \n",
              "1                                      2   \n",
              "2                                      2   \n",
              "3                                      1   \n",
              "4                                      0   \n",
              "\n",
              "   Station_Name_8-Stop_Reason_3-Remark_14  \\\n",
              "0                                       0   \n",
              "1                                       0   \n",
              "2                                       0   \n",
              "3                                       0   \n",
              "4                                       0   \n",
              "\n",
              "   Station_Name_8-Stop_Reason_4-Remark_4  \\\n",
              "0                                      0   \n",
              "1                                      0   \n",
              "2                                      2   \n",
              "3                                      1   \n",
              "4                                      0   \n",
              "\n",
              "   Station_Name_9-Stop_Reason_3-Remark_13  \\\n",
              "0                                       0   \n",
              "1                                       0   \n",
              "2                                       0   \n",
              "3                                       0   \n",
              "4                                       0   \n",
              "\n",
              "   Station_Name_9-Stop_Reason_3-Remark_7  \\\n",
              "0                                      0   \n",
              "1                                      0   \n",
              "2                                      0   \n",
              "3                                      0   \n",
              "4                                      0   \n",
              "\n",
              "   Station_Name_9-Stop_Reason_4-Remark_4  Time_Since_Shift_Start  \n",
              "0                                      0                     1.0  \n",
              "1                                      0                     2.0  \n",
              "2                                      0                     3.0  \n",
              "3                                      0                     4.0  \n",
              "4                                      1                     5.0  \n",
              "\n",
              "[5 rows x 22 columns]"
            ]
          },
          "execution_count": 17,
          "metadata": {},
          "output_type": "execute_result"
        }
      ],
      "source": [
        "test2.head()"
      ]
    },
    {
      "cell_type": "code",
      "execution_count": 18,
      "metadata": {},
      "outputs": [
        {
          "data": {
            "text/plain": [
              "(6630, 24)"
            ]
          },
          "execution_count": 18,
          "metadata": {},
          "output_type": "execute_result"
        }
      ],
      "source": [
        "train.shape"
      ]
    },
    {
      "cell_type": "code",
      "execution_count": 19,
      "metadata": {
        "colab": {
          "base_uri": "https://localhost:8080/"
        },
        "id": "K6rhy9PibDt5",
        "outputId": "478d71f0-3b97-4aa6-a45e-c15e71c6d8df"
      },
      "outputs": [
        {
          "ename": "NameError",
          "evalue": "name 'test_data' is not defined",
          "output_type": "error",
          "traceback": [
            "\u001b[1;31m---------------------------------------------------------------------------\u001b[0m",
            "\u001b[1;31mNameError\u001b[0m                                 Traceback (most recent call last)",
            "\u001b[1;32m<ipython-input-19-de9adb2cfe46>\u001b[0m in \u001b[0;36m<module>\u001b[1;34m\u001b[0m\n\u001b[1;32m----> 1\u001b[1;33m \u001b[0mtest_data\u001b[0m\u001b[1;33m.\u001b[0m\u001b[0mshape\u001b[0m\u001b[1;33m\u001b[0m\u001b[1;33m\u001b[0m\u001b[0m\n\u001b[0m",
            "\u001b[1;31mNameError\u001b[0m: name 'test_data' is not defined"
          ]
        }
      ],
      "source": [
        "# test_data.shape"
      ]
    },
    {
      "cell_type": "code",
      "execution_count": 20,
      "metadata": {
        "id": "i9tw6JPCNXNl"
      },
      "outputs": [
        {
          "ename": "NameError",
          "evalue": "name 'test_data' is not defined",
          "output_type": "error",
          "traceback": [
            "\u001b[1;31m---------------------------------------------------------------------------\u001b[0m",
            "\u001b[1;31mNameError\u001b[0m                                 Traceback (most recent call last)",
            "\u001b[1;32m<ipython-input-20-2c4b9db674bd>\u001b[0m in \u001b[0;36m<module>\u001b[1;34m\u001b[0m\n\u001b[0;32m      2\u001b[0m \u001b[0mcnt\u001b[0m \u001b[1;33m=\u001b[0m \u001b[1;36m0\u001b[0m\u001b[1;33m\u001b[0m\u001b[1;33m\u001b[0m\u001b[0m\n\u001b[0;32m      3\u001b[0m \u001b[0mlist_drop\u001b[0m \u001b[1;33m=\u001b[0m \u001b[1;33m[\u001b[0m\u001b[1;33m]\u001b[0m\u001b[1;33m\u001b[0m\u001b[1;33m\u001b[0m\u001b[0m\n\u001b[1;32m----> 4\u001b[1;33m \u001b[1;32mif\u001b[0m \u001b[0mtest_data\u001b[0m\u001b[1;33m.\u001b[0m\u001b[0mshape\u001b[0m\u001b[1;33m[\u001b[0m\u001b[1;36m1\u001b[0m\u001b[1;33m]\u001b[0m \u001b[1;33m>\u001b[0m \u001b[0mlen\u001b[0m\u001b[1;33m(\u001b[0m\u001b[0ml1\u001b[0m\u001b[1;33m)\u001b[0m \u001b[1;33m+\u001b[0m \u001b[1;36m2\u001b[0m\u001b[1;33m:\u001b[0m\u001b[1;33m\u001b[0m\u001b[1;33m\u001b[0m\u001b[0m\n\u001b[0m\u001b[0;32m      5\u001b[0m     \u001b[1;32mfor\u001b[0m \u001b[0mi\u001b[0m \u001b[1;32min\u001b[0m \u001b[0mtest_data\u001b[0m\u001b[1;33m.\u001b[0m\u001b[0mcolumns\u001b[0m\u001b[1;33m:\u001b[0m\u001b[1;33m\u001b[0m\u001b[1;33m\u001b[0m\u001b[0m\n\u001b[0;32m      6\u001b[0m         \u001b[1;32mif\u001b[0m \u001b[0mi\u001b[0m \u001b[1;32mnot\u001b[0m \u001b[1;32min\u001b[0m \u001b[0ml1\u001b[0m\u001b[1;33m:\u001b[0m\u001b[1;33m\u001b[0m\u001b[1;33m\u001b[0m\u001b[0m\n",
            "\u001b[1;31mNameError\u001b[0m: name 'test_data' is not defined"
          ]
        }
      ],
      "source": [
        "#if no of columns in test_data is more than len(l1) + 2, than remove the extra columns that are not in l1\n",
        "cnt = 0\n",
        "list_drop = []\n",
        "if test_data.shape[1] > len(l1) + 2:\n",
        "    for i in test_data.columns:\n",
        "        if i not in l1:\n",
        "            cnt += 1\n",
        "            list_drop.append(i)\n",
        "            if cnt == test_data.shape[1] - len(l1) - 2:\n",
        "                break\n",
        "cnt = 0\n",
        "add_list = []\n",
        "if test_data.shape[1] < len(l1) + 2:\n",
        "    for i in l1:\n",
        "        if i not in test_data.columns:\n",
        "            add_list.append(i)\n",
        "            cnt += 1\n",
        "        if cnt == len(l1) + 2 - test_data.shape[1]:\n",
        "            print('break')\n",
        "            break\n",
        "for i in add_list:\n",
        "    test_data[i] = 0\n",
        "\n",
        "\n",
        "        "
      ]
    },
    {
      "cell_type": "code",
      "execution_count": 54,
      "metadata": {},
      "outputs": [
        {
          "data": {
            "text/plain": [
              "(35, 24)"
            ]
          },
          "execution_count": 54,
          "metadata": {},
          "output_type": "execute_result"
        }
      ],
      "source": [
        "test_data.shape"
      ]
    },
    {
      "cell_type": "code",
      "execution_count": 55,
      "metadata": {
        "id": "sk2DiDrZNrck"
      },
      "outputs": [],
      "source": [
        "from sklearn.preprocessing import MinMaxScaler\n",
        "cpu_list = [i for i in test_data.columns if i != 'Stop_Time']\n",
        "scaler = MinMaxScaler()\n",
        "scaled_test = scaler.fit_transform(test_data[cpu_list])"
      ]
    },
    {
      "cell_type": "code",
      "execution_count": null,
      "metadata": {},
      "outputs": [],
      "source": [
        "#predict on test data\n"
      ]
    },
    {
      "cell_type": "code",
      "execution_count": 51,
      "metadata": {},
      "outputs": [
        {
          "data": {
            "text/plain": [
              "(35, 1, 24)"
            ]
          },
          "execution_count": 51,
          "metadata": {},
          "output_type": "execute_result"
        }
      ],
      "source": [
        "#transform scaled_test to 3d array\n",
        "scaled_test = scaled_test.reshape((scaled_test.shape[0], 1, scaled_test.shape[1]))\n",
        "scaled_test.shape\n"
      ]
    },
    {
      "cell_type": "code",
      "execution_count": 50,
      "metadata": {
        "colab": {
          "base_uri": "https://localhost:8080/",
          "height": 1000
        },
        "id": "ReZHly2dNq-V",
        "outputId": "8db23b5b-37e0-4d1f-90c2-e7b0e2268c92"
      },
      "outputs": [
        {
          "ename": "InvalidArgumentError",
          "evalue": "Graph execution error:\n\ntranspose expects a vector of size 3. But input(1) is a vector of size 4\n\t [[{{node model_1/conv1d_48/Conv1D-0-TransposeNHWCToNCHW-LayoutOptimizer}}]] [Op:__inference_predict_function_203465]",
          "output_type": "error",
          "traceback": [
            "\u001b[1;31m---------------------------------------------------------------------------\u001b[0m",
            "\u001b[1;31mInvalidArgumentError\u001b[0m                      Traceback (most recent call last)",
            "\u001b[1;32m<ipython-input-50-cae375b3d428>\u001b[0m in \u001b[0;36m<module>\u001b[1;34m\u001b[0m\n\u001b[1;32m----> 1\u001b[1;33m \u001b[0myhat\u001b[0m \u001b[1;33m=\u001b[0m \u001b[0mmulti_head_cnn_lstm_model\u001b[0m\u001b[1;33m.\u001b[0m\u001b[0mpredict\u001b[0m\u001b[1;33m(\u001b[0m\u001b[0mscaled_test\u001b[0m\u001b[1;33m,\u001b[0m \u001b[0mverbose\u001b[0m\u001b[1;33m=\u001b[0m\u001b[1;36m0\u001b[0m\u001b[1;33m)\u001b[0m\u001b[1;33m\u001b[0m\u001b[1;33m\u001b[0m\u001b[0m\n\u001b[0m\u001b[0;32m      2\u001b[0m \u001b[0myhat_inverse\u001b[0m\u001b[1;33m,\u001b[0m \u001b[0my_test_inverse\u001b[0m \u001b[1;33m=\u001b[0m \u001b[0minverse_transform\u001b[0m\u001b[1;33m(\u001b[0m\u001b[0my_test\u001b[0m\u001b[1;33m,\u001b[0m \u001b[0myhat\u001b[0m\u001b[1;33m)\u001b[0m\u001b[1;33m\u001b[0m\u001b[1;33m\u001b[0m\u001b[0m\n\u001b[0;32m      3\u001b[0m \u001b[0mevaluate_forecast\u001b[0m\u001b[1;33m(\u001b[0m\u001b[0my_test_inverse\u001b[0m\u001b[1;33m,\u001b[0m \u001b[0myhat_inverse\u001b[0m\u001b[1;33m)\u001b[0m\u001b[1;33m\u001b[0m\u001b[1;33m\u001b[0m\u001b[0m\n",
            "\u001b[1;32m~\\AppData\\Roaming\\Python\\Python39\\site-packages\\keras\\utils\\traceback_utils.py\u001b[0m in \u001b[0;36merror_handler\u001b[1;34m(*args, **kwargs)\u001b[0m\n\u001b[0;32m     68\u001b[0m             \u001b[1;31m# To get the full stack trace, call:\u001b[0m\u001b[1;33m\u001b[0m\u001b[1;33m\u001b[0m\u001b[0m\n\u001b[0;32m     69\u001b[0m             \u001b[1;31m# `tf.debugging.disable_traceback_filtering()`\u001b[0m\u001b[1;33m\u001b[0m\u001b[1;33m\u001b[0m\u001b[0m\n\u001b[1;32m---> 70\u001b[1;33m             \u001b[1;32mraise\u001b[0m \u001b[0me\u001b[0m\u001b[1;33m.\u001b[0m\u001b[0mwith_traceback\u001b[0m\u001b[1;33m(\u001b[0m\u001b[0mfiltered_tb\u001b[0m\u001b[1;33m)\u001b[0m \u001b[1;32mfrom\u001b[0m \u001b[1;32mNone\u001b[0m\u001b[1;33m\u001b[0m\u001b[1;33m\u001b[0m\u001b[0m\n\u001b[0m\u001b[0;32m     71\u001b[0m         \u001b[1;32mfinally\u001b[0m\u001b[1;33m:\u001b[0m\u001b[1;33m\u001b[0m\u001b[1;33m\u001b[0m\u001b[0m\n\u001b[0;32m     72\u001b[0m             \u001b[1;32mdel\u001b[0m \u001b[0mfiltered_tb\u001b[0m\u001b[1;33m\u001b[0m\u001b[1;33m\u001b[0m\u001b[0m\n",
            "\u001b[1;32m~\\AppData\\Roaming\\Python\\Python39\\site-packages\\tensorflow\\python\\eager\\execute.py\u001b[0m in \u001b[0;36mquick_execute\u001b[1;34m(op_name, num_outputs, inputs, attrs, ctx, name)\u001b[0m\n\u001b[0;32m     52\u001b[0m   \u001b[1;32mtry\u001b[0m\u001b[1;33m:\u001b[0m\u001b[1;33m\u001b[0m\u001b[1;33m\u001b[0m\u001b[0m\n\u001b[0;32m     53\u001b[0m     \u001b[0mctx\u001b[0m\u001b[1;33m.\u001b[0m\u001b[0mensure_initialized\u001b[0m\u001b[1;33m(\u001b[0m\u001b[1;33m)\u001b[0m\u001b[1;33m\u001b[0m\u001b[1;33m\u001b[0m\u001b[0m\n\u001b[1;32m---> 54\u001b[1;33m     tensors = pywrap_tfe.TFE_Py_Execute(ctx._handle, device_name, op_name,\n\u001b[0m\u001b[0;32m     55\u001b[0m                                         inputs, attrs, num_outputs)\n\u001b[0;32m     56\u001b[0m   \u001b[1;32mexcept\u001b[0m \u001b[0mcore\u001b[0m\u001b[1;33m.\u001b[0m\u001b[0m_NotOkStatusException\u001b[0m \u001b[1;32mas\u001b[0m \u001b[0me\u001b[0m\u001b[1;33m:\u001b[0m\u001b[1;33m\u001b[0m\u001b[1;33m\u001b[0m\u001b[0m\n",
            "\u001b[1;31mInvalidArgumentError\u001b[0m: Graph execution error:\n\ntranspose expects a vector of size 3. But input(1) is a vector of size 4\n\t [[{{node model_1/conv1d_48/Conv1D-0-TransposeNHWCToNCHW-LayoutOptimizer}}]] [Op:__inference_predict_function_203465]"
          ]
        }
      ],
      "source": [
        "yhat = multi_head_cnn_lstm_model.predict(scaled_test, verbose=0)\n",
        "yhat_inverse, y_test_inverse = inverse_transform(y_test, yhat)\n",
        "evaluate_forecast(y_test_inverse, yhat_inverse)"
      ]
    },
    {
      "cell_type": "code",
      "execution_count": null,
      "metadata": {
        "id": "hT0zsALNNq51"
      },
      "outputs": [],
      "source": [
        "yhat_inverse"
      ]
    },
    {
      "cell_type": "code",
      "execution_count": null,
      "metadata": {
        "colab": {
          "base_uri": "https://localhost:8080/"
        },
        "id": "eoGFYrZxNqw6",
        "outputId": "88d60dcc-b209-4865-a491-1b64d4f53400"
      },
      "outputs": [
        {
          "data": {
            "text/plain": [
              "array([[ 7., 10.,  0.,  0.,  6.,  0.,  0.,  1.,  0.,  0.,  1.,  4.,  2.,\n",
              "         1.,  2.,  0.,  0.,  6.,  0.,  0.,  1.,  7.],\n",
              "       [ 8., 14.,  0.,  0.,  6.,  0.,  0.,  0.,  0.,  2.,  0.,  6.,  0.,\n",
              "         2.,  1.,  0.,  0.,  9.,  0.,  0.,  4.,  8.],\n",
              "       [ 9., 13.,  0.,  0.,  6.,  0.,  0.,  1.,  1.,  1.,  1.,  5.,  0.,\n",
              "         2.,  3.,  4.,  0.,  3.,  0.,  0.,  0.,  0.],\n",
              "       [10., 13.,  0.,  0.,  6.,  0.,  0.,  0.,  1.,  2.,  0.,  7.,  0.,\n",
              "         2.,  5.,  4.,  0.,  1.,  0.,  0.,  0.,  0.],\n",
              "       [ 8., 14.,  0.,  0.,  6.,  0.,  0.,  0.,  0.,  2.,  0.,  6.,  0.,\n",
              "         2.,  1.,  0.,  0.,  9.,  0.,  0.,  4.,  8.],\n",
              "       [ 9., 13.,  0.,  0.,  6.,  0.,  0.,  1.,  1.,  1.,  1.,  5.,  0.,\n",
              "         2.,  3.,  4.,  0.,  3.,  0.,  0.,  0.,  0.],\n",
              "       [10., 13.,  0.,  0.,  6.,  0.,  0.,  0.,  1.,  2.,  0.,  7.,  0.,\n",
              "         2.,  5.,  4.,  0.,  1.,  0.,  0.,  0.,  0.],\n",
              "       [11., 10.,  0.,  0.,  6.,  0.,  0.,  0.,  1.,  2.,  0.,  1.,  1.,\n",
              "         1.,  4.,  2.,  0.,  5.,  0.,  0.,  6.,  1.],\n",
              "       [ 9., 13.,  0.,  0.,  6.,  0.,  0.,  1.,  1.,  1.,  1.,  5.,  0.,\n",
              "         2.,  3.,  4.,  0.,  3.,  0.,  0.,  0.,  0.],\n",
              "       [10., 13.,  0.,  0.,  6.,  0.,  0.,  0.,  1.,  2.,  0.,  7.,  0.,\n",
              "         2.,  5.,  4.,  0.,  1.,  0.,  0.,  0.,  0.],\n",
              "       [11., 10.,  0.,  0.,  6.,  0.,  0.,  0.,  1.,  2.,  0.,  1.,  1.,\n",
              "         1.,  4.,  2.,  0.,  5.,  0.,  0.,  6.,  1.],\n",
              "       [12., 18.,  0.,  0.,  6.,  0.,  2.,  2.,  0.,  1.,  1.,  5.,  5.,\n",
              "         1.,  4.,  0.,  0.,  2.,  0.,  0.,  3.,  2.],\n",
              "       [10., 13.,  0.,  0.,  6.,  0.,  0.,  0.,  1.,  2.,  0.,  7.,  0.,\n",
              "         2.,  5.,  4.,  0.,  1.,  0.,  0.,  0.,  0.],\n",
              "       [11., 10.,  0.,  0.,  6.,  0.,  0.,  0.,  1.,  2.,  0.,  1.,  1.,\n",
              "         1.,  4.,  2.,  0.,  5.,  0.,  0.,  6.,  1.],\n",
              "       [12., 18.,  0.,  0.,  6.,  0.,  2.,  2.,  0.,  1.,  1.,  5.,  5.,\n",
              "         1.,  4.,  0.,  0.,  2.,  0.,  0.,  3.,  2.],\n",
              "       [13.,  9.,  0.,  0.,  6.,  0.,  0.,  0.,  0.,  0.,  1.,  0.,  6.,\n",
              "         0.,  3.,  3.,  0.,  0.,  0.,  0.,  4.,  3.],\n",
              "       [11., 10.,  0.,  0.,  6.,  0.,  0.,  0.,  1.,  2.,  0.,  1.,  1.,\n",
              "         1.,  4.,  2.,  0.,  5.,  0.,  0.,  6.,  1.],\n",
              "       [12., 18.,  0.,  0.,  6.,  0.,  2.,  2.,  0.,  1.,  1.,  5.,  5.,\n",
              "         1.,  4.,  0.,  0.,  2.,  0.,  0.,  3.,  2.],\n",
              "       [13.,  9.,  0.,  0.,  6.,  0.,  0.,  0.,  0.,  0.,  1.,  0.,  6.,\n",
              "         0.,  3.,  3.,  0.,  0.,  0.,  0.,  4.,  3.],\n",
              "       [14.,  9.,  0.,  0.,  6.,  0.,  0.,  0.,  0.,  0.,  0.,  1.,  0.,\n",
              "         0.,  2.,  3.,  0.,  1.,  0.,  0.,  4.,  4.],\n",
              "       [12., 18.,  0.,  0.,  6.,  0.,  2.,  2.,  0.,  1.,  1.,  5.,  5.,\n",
              "         1.,  4.,  0.,  0.,  2.,  0.,  0.,  3.,  2.],\n",
              "       [13.,  9.,  0.,  0.,  6.,  0.,  0.,  0.,  0.,  0.,  1.,  0.,  6.,\n",
              "         0.,  3.,  3.,  0.,  0.,  0.,  0.,  4.,  3.],\n",
              "       [14.,  9.,  0.,  0.,  6.,  0.,  0.,  0.,  0.,  0.,  0.,  1.,  0.,\n",
              "         0.,  2.,  3.,  0.,  1.,  0.,  0.,  4.,  4.],\n",
              "       [15.,  7.,  0.,  0.,  6.,  0.,  1.,  0.,  0.,  2.,  1.,  0.,  0.,\n",
              "         0.,  2.,  3.,  4.,  1.,  0.,  0.,  1.,  5.],\n",
              "       [13.,  9.,  0.,  0.,  6.,  0.,  0.,  0.,  0.,  0.,  1.,  0.,  6.,\n",
              "         0.,  3.,  3.,  0.,  0.,  0.,  0.,  4.,  3.],\n",
              "       [14.,  9.,  0.,  0.,  6.,  0.,  0.,  0.,  0.,  0.,  0.,  1.,  0.,\n",
              "         0.,  2.,  3.,  0.,  1.,  0.,  0.,  4.,  4.],\n",
              "       [15.,  7.,  0.,  0.,  6.,  0.,  1.,  0.,  0.,  2.,  1.,  0.,  0.,\n",
              "         0.,  2.,  3.,  4.,  1.,  0.,  0.,  1.,  5.],\n",
              "       [16., 14.,  0.,  1.,  6.,  0.,  1.,  2.,  0.,  2.,  2.,  3.,  0.,\n",
              "         0.,  2.,  1.,  3.,  6.,  0.,  1.,  4.,  6.],\n",
              "       [14.,  9.,  0.,  0.,  6.,  0.,  0.,  0.,  0.,  0.,  0.,  1.,  0.,\n",
              "         0.,  2.,  3.,  0.,  1.,  0.,  0.,  4.,  4.],\n",
              "       [15.,  7.,  0.,  0.,  6.,  0.,  1.,  0.,  0.,  2.,  1.,  0.,  0.,\n",
              "         0.,  2.,  3.,  4.,  1.,  0.,  0.,  1.,  5.],\n",
              "       [16., 14.,  0.,  1.,  6.,  0.,  1.,  2.,  0.,  2.,  2.,  3.,  0.,\n",
              "         0.,  2.,  1.,  3.,  6.,  0.,  1.,  4.,  6.],\n",
              "       [17., 12.,  0.,  0.,  5.,  0.,  0.,  0.,  0.,  0.,  0.,  1.,  0.,\n",
              "         0.,  1.,  2.,  0.,  9.,  0.,  0.,  2.,  7.]])"
            ]
          },
          "execution_count": 28,
          "metadata": {},
          "output_type": "execute_result"
        }
      ],
      "source": [
        "y_test_inverse"
      ]
    },
    {
      "cell_type": "code",
      "execution_count": null,
      "metadata": {
        "id": "NsWaQ3t9Nqma"
      },
      "outputs": [],
      "source": []
    },
    {
      "cell_type": "code",
      "execution_count": 12,
      "metadata": {
        "id": "DDnSlGIKNqPO"
      },
      "outputs": [],
      "source": [
        "LOOK_BACK = 6    \n",
        "FORECAST_RANGE = 1"
      ]
    },
    {
      "cell_type": "code",
      "execution_count": 16,
      "metadata": {
        "id": "xnm1aVL6DgsC"
      },
      "outputs": [
        {
          "name": "stdout",
          "output_type": "stream",
          "text": [
            "(5352, 6, 30)\n",
            "(5352, 1, 30)\n",
            "(2779, 6, 30)\n",
            "(2779, 1, 30)\n"
          ]
        }
      ],
      "source": [
        "\n",
        "\n",
        "n_features = len(cpu_list)\n",
        "X_train, y_train = split_sequence(scaled_train, look_back=LOOK_BACK, forecast_horizon=FORECAST_RANGE)\n",
        "X_test, y_test = split_sequence(scaled_test, look_back=LOOK_BACK, forecast_horizon=FORECAST_RANGE)\n",
        "print(X_train.shape)\n",
        "print(y_train.shape)\n",
        "print(X_test.shape)\n",
        "print(y_test.shape)"
      ]
    },
    {
      "cell_type": "code",
      "execution_count": 17,
      "metadata": {
        "id": "XTpPgRNpGkNW"
      },
      "outputs": [],
      "source": [
        "#create model with convolutional layer and pooling layer and lstm layer\n",
        "input_layer = Input(shape=(X_train.shape[1], X_train.shape[2]))\n",
        "conv_layer = Conv1D(filters=64, kernel_size=2, activation='relu')(input_layer)\n",
        "pool_layer = MaxPooling1D(pool_size=2)(conv_layer)\n",
        "lstm_layer = LSTM(50, activation='tanh')(pool_layer)\n",
        "repeat_layer = RepeatVector(FORECAST_RANGE)(lstm_layer)\n",
        "lstm_layer_2 = LSTM(50, activation='tanh', return_sequences=True)(repeat_layer)\n",
        "dropout_layer = Dropout(0.2)(lstm_layer_2)\n",
        "output_layer = Dense(n_features, activation='linear')(dropout_layer)\n",
        "new_model = Model(inputs=input_layer, outputs=output_layer)\n",
        "new_model.compile(optimizer='adam', loss='mse', metrics=['mse'])\n"
      ]
    },
    {
      "cell_type": "code",
      "execution_count": null,
      "metadata": {},
      "outputs": [],
      "source": [
        "#plot model\n",
        "plot_model(model=new_model, show_shapes=True)\n",
        "history = new_model.fit(X_train, y_train, epochs=epochs, batch_size=batch_size, validation_split=validation,callbacks=[checkpoint_callback, rlrop_callback])\n",
        "yhat = new_model.predict(X_test, verbose=0)\n",
        "yhat_inverse, y_test_inverse = inverse_transform(y_test, yhat)\n",
        "evaluate_forecast(y_test_inverse, yhat_inverse)\n"
      ]
    },
    {
      "cell_type": "code",
      "execution_count": 30,
      "metadata": {},
      "outputs": [],
      "source": [
        "new_model.save('new_model.h5')"
      ]
    },
    {
      "cell_type": "code",
      "execution_count": 35,
      "metadata": {},
      "outputs": [],
      "source": [
        "new_model.save('new_model_6.h5')"
      ]
    },
    {
      "cell_type": "code",
      "execution_count": 15,
      "metadata": {},
      "outputs": [
        {
          "name": "stdout",
          "output_type": "stream",
          "text": [
            "Model: \"model_2\"\n",
            "_________________________________________________________________\n",
            " Layer (type)                Output Shape              Param #   \n",
            "=================================================================\n",
            " input_5 (InputLayer)        [(None, 6, 24)]           0         \n",
            "                                                                 \n",
            " conv1d_98 (Conv1D)          (None, 5, 64)             3136      \n",
            "                                                                 \n",
            " max_pooling1d_1 (MaxPooling  (None, 2, 64)            0         \n",
            " 1D)                                                             \n",
            "                                                                 \n",
            " lstm_5 (LSTM)               (None, 50)                23000     \n",
            "                                                                 \n",
            " repeat_vector_3 (RepeatVect  (None, 1, 50)            0         \n",
            " or)                                                             \n",
            "                                                                 \n",
            " lstm_6 (LSTM)               (None, 1, 50)             20200     \n",
            "                                                                 \n",
            " dropout_2 (Dropout)         (None, 1, 50)             0         \n",
            "                                                                 \n",
            " dense_3 (Dense)             (None, 1, 24)             1224      \n",
            "                                                                 \n",
            "=================================================================\n",
            "Total params: 47,560\n",
            "Trainable params: 47,560\n",
            "Non-trainable params: 0\n",
            "_________________________________________________________________\n",
            "None\n"
          ]
        }
      ],
      "source": [
        "new_model_6 = tf.keras.models.load_model('new_model_6.h5')\n",
        "print(new_model_6.summary())"
      ]
    },
    {
      "cell_type": "code",
      "execution_count": 18,
      "metadata": {},
      "outputs": [
        {
          "name": "stdout",
          "output_type": "stream",
          "text": [
            "Epoch 1/50\n",
            "151/151 [==============================] - ETA: 0s - loss: 0.0187 - mse: 0.0187"
          ]
        },
        {
          "name": "stderr",
          "output_type": "stream",
          "text": [
            "WARNING:absl:Found untraced functions such as _jit_compiled_convolution_op, lstm_cell_layer_call_fn, lstm_cell_layer_call_and_return_conditional_losses, lstm_cell_1_layer_call_fn, lstm_cell_1_layer_call_and_return_conditional_losses while saving (showing 5 of 5). These functions will not be directly callable after loading.\n"
          ]
        },
        {
          "name": "stdout",
          "output_type": "stream",
          "text": [
            "INFO:tensorflow:Assets written to: path_to_checkpoint_filepath\\assets\n"
          ]
        },
        {
          "name": "stderr",
          "output_type": "stream",
          "text": [
            "INFO:tensorflow:Assets written to: path_to_checkpoint_filepath\\assets\n"
          ]
        },
        {
          "name": "stdout",
          "output_type": "stream",
          "text": [
            "151/151 [==============================] - 18s 58ms/step - loss: 0.0187 - mse: 0.0187 - val_loss: 0.0108 - val_mse: 0.0108 - lr: 0.0010\n",
            "Epoch 2/50\n",
            "147/151 [============================>.] - ETA: 0s - loss: 0.0098 - mse: 0.0098"
          ]
        },
        {
          "name": "stderr",
          "output_type": "stream",
          "text": [
            "WARNING:absl:Found untraced functions such as _jit_compiled_convolution_op, lstm_cell_layer_call_fn, lstm_cell_layer_call_and_return_conditional_losses, lstm_cell_1_layer_call_fn, lstm_cell_1_layer_call_and_return_conditional_losses while saving (showing 5 of 5). These functions will not be directly callable after loading.\n"
          ]
        },
        {
          "name": "stdout",
          "output_type": "stream",
          "text": [
            "INFO:tensorflow:Assets written to: path_to_checkpoint_filepath\\assets\n"
          ]
        },
        {
          "name": "stderr",
          "output_type": "stream",
          "text": [
            "INFO:tensorflow:Assets written to: path_to_checkpoint_filepath\\assets\n"
          ]
        },
        {
          "name": "stdout",
          "output_type": "stream",
          "text": [
            "151/151 [==============================] - 7s 47ms/step - loss: 0.0098 - mse: 0.0098 - val_loss: 0.0079 - val_mse: 0.0079 - lr: 0.0010\n",
            "Epoch 3/50\n",
            "147/151 [============================>.] - ETA: 0s - loss: 0.0070 - mse: 0.0070"
          ]
        },
        {
          "name": "stderr",
          "output_type": "stream",
          "text": [
            "WARNING:absl:Found untraced functions such as _jit_compiled_convolution_op, lstm_cell_layer_call_fn, lstm_cell_layer_call_and_return_conditional_losses, lstm_cell_1_layer_call_fn, lstm_cell_1_layer_call_and_return_conditional_losses while saving (showing 5 of 5). These functions will not be directly callable after loading.\n"
          ]
        },
        {
          "name": "stdout",
          "output_type": "stream",
          "text": [
            "INFO:tensorflow:Assets written to: path_to_checkpoint_filepath\\assets\n"
          ]
        },
        {
          "name": "stderr",
          "output_type": "stream",
          "text": [
            "INFO:tensorflow:Assets written to: path_to_checkpoint_filepath\\assets\n"
          ]
        },
        {
          "name": "stdout",
          "output_type": "stream",
          "text": [
            "151/151 [==============================] - 7s 45ms/step - loss: 0.0070 - mse: 0.0070 - val_loss: 0.0063 - val_mse: 0.0063 - lr: 0.0010\n",
            "Epoch 4/50\n",
            "150/151 [============================>.] - ETA: 0s - loss: 0.0058 - mse: 0.0058"
          ]
        },
        {
          "name": "stderr",
          "output_type": "stream",
          "text": [
            "WARNING:absl:Found untraced functions such as _jit_compiled_convolution_op, lstm_cell_layer_call_fn, lstm_cell_layer_call_and_return_conditional_losses, lstm_cell_1_layer_call_fn, lstm_cell_1_layer_call_and_return_conditional_losses while saving (showing 5 of 5). These functions will not be directly callable after loading.\n"
          ]
        },
        {
          "name": "stdout",
          "output_type": "stream",
          "text": [
            "INFO:tensorflow:Assets written to: path_to_checkpoint_filepath\\assets\n"
          ]
        },
        {
          "name": "stderr",
          "output_type": "stream",
          "text": [
            "INFO:tensorflow:Assets written to: path_to_checkpoint_filepath\\assets\n"
          ]
        },
        {
          "name": "stdout",
          "output_type": "stream",
          "text": [
            "151/151 [==============================] - 7s 46ms/step - loss: 0.0058 - mse: 0.0058 - val_loss: 0.0059 - val_mse: 0.0059 - lr: 0.0010\n",
            "Epoch 5/50\n",
            "144/151 [===========================>..] - ETA: 0s - loss: 0.0054 - mse: 0.0054"
          ]
        },
        {
          "name": "stderr",
          "output_type": "stream",
          "text": [
            "WARNING:absl:Found untraced functions such as _jit_compiled_convolution_op, lstm_cell_layer_call_fn, lstm_cell_layer_call_and_return_conditional_losses, lstm_cell_1_layer_call_fn, lstm_cell_1_layer_call_and_return_conditional_losses while saving (showing 5 of 5). These functions will not be directly callable after loading.\n"
          ]
        },
        {
          "name": "stdout",
          "output_type": "stream",
          "text": [
            "INFO:tensorflow:Assets written to: path_to_checkpoint_filepath\\assets\n"
          ]
        },
        {
          "name": "stderr",
          "output_type": "stream",
          "text": [
            "INFO:tensorflow:Assets written to: path_to_checkpoint_filepath\\assets\n"
          ]
        },
        {
          "name": "stdout",
          "output_type": "stream",
          "text": [
            "151/151 [==============================] - 7s 45ms/step - loss: 0.0054 - mse: 0.0054 - val_loss: 0.0058 - val_mse: 0.0058 - lr: 0.0010\n",
            "Epoch 6/50\n",
            "150/151 [============================>.] - ETA: 0s - loss: 0.0052 - mse: 0.0052"
          ]
        },
        {
          "name": "stderr",
          "output_type": "stream",
          "text": [
            "WARNING:absl:Found untraced functions such as _jit_compiled_convolution_op, lstm_cell_layer_call_fn, lstm_cell_layer_call_and_return_conditional_losses, lstm_cell_1_layer_call_fn, lstm_cell_1_layer_call_and_return_conditional_losses while saving (showing 5 of 5). These functions will not be directly callable after loading.\n"
          ]
        },
        {
          "name": "stdout",
          "output_type": "stream",
          "text": [
            "INFO:tensorflow:Assets written to: path_to_checkpoint_filepath\\assets\n"
          ]
        },
        {
          "name": "stderr",
          "output_type": "stream",
          "text": [
            "INFO:tensorflow:Assets written to: path_to_checkpoint_filepath\\assets\n"
          ]
        },
        {
          "name": "stdout",
          "output_type": "stream",
          "text": [
            "151/151 [==============================] - 8s 53ms/step - loss: 0.0052 - mse: 0.0052 - val_loss: 0.0057 - val_mse: 0.0057 - lr: 0.0010\n",
            "Epoch 7/50\n",
            "146/151 [============================>.] - ETA: 0s - loss: 0.0049 - mse: 0.0049"
          ]
        },
        {
          "name": "stderr",
          "output_type": "stream",
          "text": [
            "WARNING:absl:Found untraced functions such as _jit_compiled_convolution_op, lstm_cell_layer_call_fn, lstm_cell_layer_call_and_return_conditional_losses, lstm_cell_1_layer_call_fn, lstm_cell_1_layer_call_and_return_conditional_losses while saving (showing 5 of 5). These functions will not be directly callable after loading.\n"
          ]
        },
        {
          "name": "stdout",
          "output_type": "stream",
          "text": [
            "INFO:tensorflow:Assets written to: path_to_checkpoint_filepath\\assets\n"
          ]
        },
        {
          "name": "stderr",
          "output_type": "stream",
          "text": [
            "INFO:tensorflow:Assets written to: path_to_checkpoint_filepath\\assets\n"
          ]
        },
        {
          "name": "stdout",
          "output_type": "stream",
          "text": [
            "151/151 [==============================] - 7s 49ms/step - loss: 0.0049 - mse: 0.0049 - val_loss: 0.0056 - val_mse: 0.0056 - lr: 0.0010\n",
            "Epoch 8/50\n",
            "151/151 [==============================] - ETA: 0s - loss: 0.0047 - mse: 0.0047"
          ]
        },
        {
          "name": "stderr",
          "output_type": "stream",
          "text": [
            "WARNING:absl:Found untraced functions such as _jit_compiled_convolution_op, lstm_cell_layer_call_fn, lstm_cell_layer_call_and_return_conditional_losses, lstm_cell_1_layer_call_fn, lstm_cell_1_layer_call_and_return_conditional_losses while saving (showing 5 of 5). These functions will not be directly callable after loading.\n"
          ]
        },
        {
          "name": "stdout",
          "output_type": "stream",
          "text": [
            "INFO:tensorflow:Assets written to: path_to_checkpoint_filepath\\assets\n"
          ]
        },
        {
          "name": "stderr",
          "output_type": "stream",
          "text": [
            "INFO:tensorflow:Assets written to: path_to_checkpoint_filepath\\assets\n"
          ]
        },
        {
          "name": "stdout",
          "output_type": "stream",
          "text": [
            "151/151 [==============================] - 7s 50ms/step - loss: 0.0047 - mse: 0.0047 - val_loss: 0.0055 - val_mse: 0.0055 - lr: 0.0010\n",
            "Epoch 9/50\n",
            "148/151 [============================>.] - ETA: 0s - loss: 0.0046 - mse: 0.0046"
          ]
        },
        {
          "name": "stderr",
          "output_type": "stream",
          "text": [
            "WARNING:absl:Found untraced functions such as _jit_compiled_convolution_op, lstm_cell_layer_call_fn, lstm_cell_layer_call_and_return_conditional_losses, lstm_cell_1_layer_call_fn, lstm_cell_1_layer_call_and_return_conditional_losses while saving (showing 5 of 5). These functions will not be directly callable after loading.\n"
          ]
        },
        {
          "name": "stdout",
          "output_type": "stream",
          "text": [
            "INFO:tensorflow:Assets written to: path_to_checkpoint_filepath\\assets\n"
          ]
        },
        {
          "name": "stderr",
          "output_type": "stream",
          "text": [
            "INFO:tensorflow:Assets written to: path_to_checkpoint_filepath\\assets\n"
          ]
        },
        {
          "name": "stdout",
          "output_type": "stream",
          "text": [
            "151/151 [==============================] - 7s 49ms/step - loss: 0.0046 - mse: 0.0046 - val_loss: 0.0055 - val_mse: 0.0055 - lr: 0.0010\n",
            "Epoch 10/50\n",
            "146/151 [============================>.] - ETA: 0s - loss: 0.0044 - mse: 0.0044"
          ]
        },
        {
          "name": "stderr",
          "output_type": "stream",
          "text": [
            "WARNING:absl:Found untraced functions such as _jit_compiled_convolution_op, lstm_cell_layer_call_fn, lstm_cell_layer_call_and_return_conditional_losses, lstm_cell_1_layer_call_fn, lstm_cell_1_layer_call_and_return_conditional_losses while saving (showing 5 of 5). These functions will not be directly callable after loading.\n"
          ]
        },
        {
          "name": "stdout",
          "output_type": "stream",
          "text": [
            "INFO:tensorflow:Assets written to: path_to_checkpoint_filepath\\assets\n"
          ]
        },
        {
          "name": "stderr",
          "output_type": "stream",
          "text": [
            "INFO:tensorflow:Assets written to: path_to_checkpoint_filepath\\assets\n"
          ]
        },
        {
          "name": "stdout",
          "output_type": "stream",
          "text": [
            "151/151 [==============================] - 7s 50ms/step - loss: 0.0045 - mse: 0.0045 - val_loss: 0.0054 - val_mse: 0.0054 - lr: 0.0010\n",
            "Epoch 11/50\n",
            "149/151 [============================>.] - ETA: 0s - loss: 0.0043 - mse: 0.0043"
          ]
        },
        {
          "name": "stderr",
          "output_type": "stream",
          "text": [
            "WARNING:absl:Found untraced functions such as _jit_compiled_convolution_op, lstm_cell_layer_call_fn, lstm_cell_layer_call_and_return_conditional_losses, lstm_cell_1_layer_call_fn, lstm_cell_1_layer_call_and_return_conditional_losses while saving (showing 5 of 5). These functions will not be directly callable after loading.\n"
          ]
        },
        {
          "name": "stdout",
          "output_type": "stream",
          "text": [
            "INFO:tensorflow:Assets written to: path_to_checkpoint_filepath\\assets\n"
          ]
        },
        {
          "name": "stderr",
          "output_type": "stream",
          "text": [
            "INFO:tensorflow:Assets written to: path_to_checkpoint_filepath\\assets\n"
          ]
        },
        {
          "name": "stdout",
          "output_type": "stream",
          "text": [
            "151/151 [==============================] - 8s 50ms/step - loss: 0.0043 - mse: 0.0043 - val_loss: 0.0054 - val_mse: 0.0054 - lr: 0.0010\n",
            "Epoch 12/50\n",
            "147/151 [============================>.] - ETA: 0s - loss: 0.0041 - mse: 0.0041"
          ]
        },
        {
          "name": "stderr",
          "output_type": "stream",
          "text": [
            "WARNING:absl:Found untraced functions such as _jit_compiled_convolution_op, lstm_cell_layer_call_fn, lstm_cell_layer_call_and_return_conditional_losses, lstm_cell_1_layer_call_fn, lstm_cell_1_layer_call_and_return_conditional_losses while saving (showing 5 of 5). These functions will not be directly callable after loading.\n"
          ]
        },
        {
          "name": "stdout",
          "output_type": "stream",
          "text": [
            "INFO:tensorflow:Assets written to: path_to_checkpoint_filepath\\assets\n"
          ]
        },
        {
          "name": "stderr",
          "output_type": "stream",
          "text": [
            "INFO:tensorflow:Assets written to: path_to_checkpoint_filepath\\assets\n"
          ]
        },
        {
          "name": "stdout",
          "output_type": "stream",
          "text": [
            "151/151 [==============================] - 7s 49ms/step - loss: 0.0041 - mse: 0.0041 - val_loss: 0.0051 - val_mse: 0.0051 - lr: 0.0010\n",
            "Epoch 13/50\n",
            "148/151 [============================>.] - ETA: 0s - loss: 0.0040 - mse: 0.0040"
          ]
        },
        {
          "name": "stderr",
          "output_type": "stream",
          "text": [
            "WARNING:absl:Found untraced functions such as _jit_compiled_convolution_op, lstm_cell_layer_call_fn, lstm_cell_layer_call_and_return_conditional_losses, lstm_cell_1_layer_call_fn, lstm_cell_1_layer_call_and_return_conditional_losses while saving (showing 5 of 5). These functions will not be directly callable after loading.\n"
          ]
        },
        {
          "name": "stdout",
          "output_type": "stream",
          "text": [
            "INFO:tensorflow:Assets written to: path_to_checkpoint_filepath\\assets\n"
          ]
        },
        {
          "name": "stderr",
          "output_type": "stream",
          "text": [
            "INFO:tensorflow:Assets written to: path_to_checkpoint_filepath\\assets\n"
          ]
        },
        {
          "name": "stdout",
          "output_type": "stream",
          "text": [
            "151/151 [==============================] - 7s 50ms/step - loss: 0.0040 - mse: 0.0040 - val_loss: 0.0049 - val_mse: 0.0049 - lr: 0.0010\n",
            "Epoch 14/50\n",
            "151/151 [==============================] - 1s 9ms/step - loss: 0.0038 - mse: 0.0038 - val_loss: 0.0049 - val_mse: 0.0049 - lr: 0.0010\n",
            "Epoch 15/50\n",
            "147/151 [============================>.] - ETA: 0s - loss: 0.0037 - mse: 0.0037"
          ]
        },
        {
          "name": "stderr",
          "output_type": "stream",
          "text": [
            "WARNING:absl:Found untraced functions such as _jit_compiled_convolution_op, lstm_cell_layer_call_fn, lstm_cell_layer_call_and_return_conditional_losses, lstm_cell_1_layer_call_fn, lstm_cell_1_layer_call_and_return_conditional_losses while saving (showing 5 of 5). These functions will not be directly callable after loading.\n"
          ]
        },
        {
          "name": "stdout",
          "output_type": "stream",
          "text": [
            "INFO:tensorflow:Assets written to: path_to_checkpoint_filepath\\assets\n"
          ]
        },
        {
          "name": "stderr",
          "output_type": "stream",
          "text": [
            "INFO:tensorflow:Assets written to: path_to_checkpoint_filepath\\assets\n"
          ]
        },
        {
          "name": "stdout",
          "output_type": "stream",
          "text": [
            "151/151 [==============================] - 8s 50ms/step - loss: 0.0037 - mse: 0.0037 - val_loss: 0.0047 - val_mse: 0.0047 - lr: 0.0010\n",
            "mae: tf.Tensor(0.472809, shape=(), dtype=float32)\n",
            "mse: tf.Tensor(1.9031357, shape=(), dtype=float32)\n",
            "mape: tf.Tensor(160639620.0, shape=(), dtype=float32)\n"
          ]
        }
      ],
      "source": [
        "    #plot model\n",
        "plot_model(model=new_model, show_shapes=True)\n",
        "history = new_model.fit(X_train, y_train, epochs=epochs, batch_size=batch_size, validation_split=validation,callbacks=[early_stopping_callback,checkpoint_callback, rlrop_callback])\n",
        "yhat = new_model.predict(X_test, verbose=0)\n",
        "yhat_inverse, y_test_inverse = inverse_transform(y_test, yhat)\n",
        "evaluate_forecast(y_test_inverse, yhat_inverse)"
      ]
    },
    {
      "cell_type": "code",
      "execution_count": 19,
      "metadata": {},
      "outputs": [],
      "source": [
        "new_model.save('new_model_early_stop.h5')\n"
      ]
    },
    {
      "cell_type": "code",
      "execution_count": 7,
      "metadata": {},
      "outputs": [
        {
          "name": "stdout",
          "output_type": "stream",
          "text": [
            "Model: \"model\"\n",
            "_________________________________________________________________\n",
            " Layer (type)                Output Shape              Param #   \n",
            "=================================================================\n",
            " input_1 (InputLayer)        [(None, 6, 30)]           0         \n",
            "                                                                 \n",
            " conv1d (Conv1D)             (None, 5, 64)             3904      \n",
            "                                                                 \n",
            " max_pooling1d (MaxPooling1D  (None, 2, 64)            0         \n",
            " )                                                               \n",
            "                                                                 \n",
            " lstm (LSTM)                 (None, 50)                23000     \n",
            "                                                                 \n",
            " repeat_vector (RepeatVector  (None, 1, 50)            0         \n",
            " )                                                               \n",
            "                                                                 \n",
            " lstm_1 (LSTM)               (None, 1, 50)             20200     \n",
            "                                                                 \n",
            " dropout (Dropout)           (None, 1, 50)             0         \n",
            "                                                                 \n",
            " dense (Dense)               (None, 1, 30)             1530      \n",
            "                                                                 \n",
            "=================================================================\n",
            "Total params: 48,634\n",
            "Trainable params: 48,634\n",
            "Non-trainable params: 0\n",
            "_________________________________________________________________\n",
            "None\n"
          ]
        }
      ],
      "source": [
        "new_model_stop = tf.keras.models.load_model('new_model_early_stop.h5')\n",
        "print(new_model_stop.summary())"
      ]
    },
    {
      "cell_type": "code",
      "execution_count": 8,
      "metadata": {},
      "outputs": [
        {
          "data": {
            "text/html": [
              "<div>\n",
              "<style scoped>\n",
              "    .dataframe tbody tr th:only-of-type {\n",
              "        vertical-align: middle;\n",
              "    }\n",
              "\n",
              "    .dataframe tbody tr th {\n",
              "        vertical-align: top;\n",
              "    }\n",
              "\n",
              "    .dataframe thead th {\n",
              "        text-align: right;\n",
              "    }\n",
              "</style>\n",
              "<table border=\"1\" class=\"dataframe\">\n",
              "  <thead>\n",
              "    <tr style=\"text-align: right;\">\n",
              "      <th></th>\n",
              "      <th>Time_Since_Morning</th>\n",
              "      <th>Station_Name-Station_Name_1</th>\n",
              "      <th>Station_Name-Station_Name_2</th>\n",
              "      <th>Station_Name-Station_Name_3</th>\n",
              "      <th>Station_Name-Station_Name_4</th>\n",
              "      <th>Station_Name-Station_Name_5</th>\n",
              "      <th>Station_Name-Station_Name_6</th>\n",
              "      <th>Station_Name-Station_Name_7</th>\n",
              "      <th>Station_Name-Station_Name_8</th>\n",
              "      <th>Station_Name-Station_Name_9</th>\n",
              "      <th>...</th>\n",
              "      <th>Remarks-Remark_15</th>\n",
              "      <th>Remarks-Remark_2</th>\n",
              "      <th>Remarks-Remark_3</th>\n",
              "      <th>Remarks-Remark_4</th>\n",
              "      <th>Remarks-Remark_5</th>\n",
              "      <th>Remarks-Remark_6</th>\n",
              "      <th>Remarks-Remark_7</th>\n",
              "      <th>Remarks-Remark_8</th>\n",
              "      <th>Remarks-Remark_9</th>\n",
              "      <th>Time_Since_Shift_Start</th>\n",
              "    </tr>\n",
              "  </thead>\n",
              "  <tbody>\n",
              "    <tr>\n",
              "      <th>0</th>\n",
              "      <td>1.0</td>\n",
              "      <td>11</td>\n",
              "      <td>6</td>\n",
              "      <td>4</td>\n",
              "      <td>2</td>\n",
              "      <td>4</td>\n",
              "      <td>4</td>\n",
              "      <td>1</td>\n",
              "      <td>2</td>\n",
              "      <td>0</td>\n",
              "      <td>...</td>\n",
              "      <td>0</td>\n",
              "      <td>6</td>\n",
              "      <td>15</td>\n",
              "      <td>1</td>\n",
              "      <td>1</td>\n",
              "      <td>0</td>\n",
              "      <td>0</td>\n",
              "      <td>0</td>\n",
              "      <td>0</td>\n",
              "      <td>1.0</td>\n",
              "    </tr>\n",
              "    <tr>\n",
              "      <th>1</th>\n",
              "      <td>2.0</td>\n",
              "      <td>15</td>\n",
              "      <td>6</td>\n",
              "      <td>5</td>\n",
              "      <td>8</td>\n",
              "      <td>4</td>\n",
              "      <td>3</td>\n",
              "      <td>0</td>\n",
              "      <td>8</td>\n",
              "      <td>1</td>\n",
              "      <td>...</td>\n",
              "      <td>0</td>\n",
              "      <td>6</td>\n",
              "      <td>23</td>\n",
              "      <td>0</td>\n",
              "      <td>6</td>\n",
              "      <td>0</td>\n",
              "      <td>0</td>\n",
              "      <td>0</td>\n",
              "      <td>0</td>\n",
              "      <td>2.0</td>\n",
              "    </tr>\n",
              "    <tr>\n",
              "      <th>2</th>\n",
              "      <td>3.0</td>\n",
              "      <td>10</td>\n",
              "      <td>6</td>\n",
              "      <td>0</td>\n",
              "      <td>2</td>\n",
              "      <td>2</td>\n",
              "      <td>1</td>\n",
              "      <td>0</td>\n",
              "      <td>2</td>\n",
              "      <td>4</td>\n",
              "      <td>...</td>\n",
              "      <td>0</td>\n",
              "      <td>6</td>\n",
              "      <td>11</td>\n",
              "      <td>0</td>\n",
              "      <td>0</td>\n",
              "      <td>0</td>\n",
              "      <td>0</td>\n",
              "      <td>0</td>\n",
              "      <td>0</td>\n",
              "      <td>3.0</td>\n",
              "    </tr>\n",
              "    <tr>\n",
              "      <th>3</th>\n",
              "      <td>4.0</td>\n",
              "      <td>7</td>\n",
              "      <td>6</td>\n",
              "      <td>0</td>\n",
              "      <td>2</td>\n",
              "      <td>0</td>\n",
              "      <td>1</td>\n",
              "      <td>0</td>\n",
              "      <td>0</td>\n",
              "      <td>4</td>\n",
              "      <td>...</td>\n",
              "      <td>0</td>\n",
              "      <td>6</td>\n",
              "      <td>6</td>\n",
              "      <td>0</td>\n",
              "      <td>1</td>\n",
              "      <td>0</td>\n",
              "      <td>0</td>\n",
              "      <td>0</td>\n",
              "      <td>0</td>\n",
              "      <td>4.0</td>\n",
              "    </tr>\n",
              "    <tr>\n",
              "      <th>4</th>\n",
              "      <td>5.0</td>\n",
              "      <td>6</td>\n",
              "      <td>6</td>\n",
              "      <td>1</td>\n",
              "      <td>3</td>\n",
              "      <td>2</td>\n",
              "      <td>4</td>\n",
              "      <td>1</td>\n",
              "      <td>2</td>\n",
              "      <td>3</td>\n",
              "      <td>...</td>\n",
              "      <td>0</td>\n",
              "      <td>6</td>\n",
              "      <td>11</td>\n",
              "      <td>3</td>\n",
              "      <td>0</td>\n",
              "      <td>2</td>\n",
              "      <td>0</td>\n",
              "      <td>0</td>\n",
              "      <td>0</td>\n",
              "      <td>5.0</td>\n",
              "    </tr>\n",
              "  </tbody>\n",
              "</table>\n",
              "<p>5 rows × 30 columns</p>\n",
              "</div>"
            ],
            "text/plain": [
              "   Time_Since_Morning  Station_Name-Station_Name_1  \\\n",
              "0                 1.0                           11   \n",
              "1                 2.0                           15   \n",
              "2                 3.0                           10   \n",
              "3                 4.0                            7   \n",
              "4                 5.0                            6   \n",
              "\n",
              "   Station_Name-Station_Name_2  Station_Name-Station_Name_3  \\\n",
              "0                            6                            4   \n",
              "1                            6                            5   \n",
              "2                            6                            0   \n",
              "3                            6                            0   \n",
              "4                            6                            1   \n",
              "\n",
              "   Station_Name-Station_Name_4  Station_Name-Station_Name_5  \\\n",
              "0                            2                            4   \n",
              "1                            8                            4   \n",
              "2                            2                            2   \n",
              "3                            2                            0   \n",
              "4                            3                            2   \n",
              "\n",
              "   Station_Name-Station_Name_6  Station_Name-Station_Name_7  \\\n",
              "0                            4                            1   \n",
              "1                            3                            0   \n",
              "2                            1                            0   \n",
              "3                            1                            0   \n",
              "4                            4                            1   \n",
              "\n",
              "   Station_Name-Station_Name_8  Station_Name-Station_Name_9  ...  \\\n",
              "0                            2                            0  ...   \n",
              "1                            8                            1  ...   \n",
              "2                            2                            4  ...   \n",
              "3                            0                            4  ...   \n",
              "4                            2                            3  ...   \n",
              "\n",
              "   Remarks-Remark_15  Remarks-Remark_2  Remarks-Remark_3  Remarks-Remark_4  \\\n",
              "0                  0                 6                15                 1   \n",
              "1                  0                 6                23                 0   \n",
              "2                  0                 6                11                 0   \n",
              "3                  0                 6                 6                 0   \n",
              "4                  0                 6                11                 3   \n",
              "\n",
              "   Remarks-Remark_5  Remarks-Remark_6  Remarks-Remark_7  Remarks-Remark_8  \\\n",
              "0                 1                 0                 0                 0   \n",
              "1                 6                 0                 0                 0   \n",
              "2                 0                 0                 0                 0   \n",
              "3                 1                 0                 0                 0   \n",
              "4                 0                 2                 0                 0   \n",
              "\n",
              "   Remarks-Remark_9  Time_Since_Shift_Start  \n",
              "0                 0                     1.0  \n",
              "1                 0                     2.0  \n",
              "2                 0                     3.0  \n",
              "3                 0                     4.0  \n",
              "4                 0                     5.0  \n",
              "\n",
              "[5 rows x 30 columns]"
            ]
          },
          "execution_count": 8,
          "metadata": {},
          "output_type": "execute_result"
        }
      ],
      "source": [
        "test2 = pd.read_csv('test_data_21onw.csv')\n",
        "test2.drop(columns=['Stop_Time'],inplace=True)\n",
        "test2.head()"
      ]
    },
    {
      "cell_type": "code",
      "execution_count": 9,
      "metadata": {},
      "outputs": [
        {
          "data": {
            "text/plain": [
              "Index(['Time_Since_Morning', 'Station_Name-Station_Name_1',\n",
              "       'Station_Name-Station_Name_2', 'Station_Name-Station_Name_3',\n",
              "       'Station_Name-Station_Name_4', 'Station_Name-Station_Name_5',\n",
              "       'Station_Name-Station_Name_6', 'Station_Name-Station_Name_7',\n",
              "       'Station_Name-Station_Name_8', 'Station_Name-Station_Name_9',\n",
              "       'Stop_Reason-Stop_Reason_1', 'Stop_Reason-Stop_Reason_2',\n",
              "       'Stop_Reason-Stop_Reason_3', 'Stop_Reason-Stop_Reason_4',\n",
              "       'Remarks-Remark_1', 'Remarks-Remark_10', 'Remarks-Remark_11',\n",
              "       'Remarks-Remark_12', 'Remarks-Remark_13', 'Remarks-Remark_14',\n",
              "       'Remarks-Remark_15', 'Remarks-Remark_2', 'Remarks-Remark_3',\n",
              "       'Remarks-Remark_4', 'Remarks-Remark_5', 'Remarks-Remark_6',\n",
              "       'Remarks-Remark_7', 'Remarks-Remark_8', 'Remarks-Remark_9',\n",
              "       'Time_Since_Shift_Start'],\n",
              "      dtype='object')"
            ]
          },
          "execution_count": 9,
          "metadata": {},
          "output_type": "execute_result"
        }
      ],
      "source": [
        "test2.columns"
      ]
    },
    {
      "cell_type": "code",
      "execution_count": 54,
      "metadata": {},
      "outputs": [
        {
          "name": "stdout",
          "output_type": "stream",
          "text": [
            "break\n"
          ]
        }
      ],
      "source": [
        "# #if no of columns in test_data is more than len(l1) + 2, than remove the extra columns that are not in l1\n",
        "# cnt = 0\n",
        "# list_drop = []\n",
        "# if test2.shape[1] > len(l1) :\n",
        "#     for i in test2.columns:\n",
        "#         if i not in l1:\n",
        "#             cnt += 1\n",
        "#             list_drop.append(i)\n",
        "#             if cnt == test2.shape[1] - len(l1):\n",
        "#                 break\n",
        "# cnt = 0\n",
        "# add_list = []\n",
        "# if test2.shape[1] < len(l1):\n",
        "#     for i in l1:\n",
        "#         if i not in test2.columns:\n",
        "#             add_list.append(i)\n",
        "#             cnt += 1\n",
        "#         if cnt == len(l1) - test2.shape[1]:\n",
        "#             print('break')\n",
        "#             break\n",
        "# for i in add_list:\n",
        "#     test2[i] = 0\n"
      ]
    },
    {
      "cell_type": "code",
      "execution_count": 10,
      "metadata": {},
      "outputs": [],
      "source": [
        "#scale test data\n",
        "scaled_test2 = scaler.transform(test2[cpu_list])"
      ]
    },
    {
      "cell_type": "code",
      "execution_count": 16,
      "metadata": {},
      "outputs": [
        {
          "name": "stdout",
          "output_type": "stream",
          "text": [
            "mae: tf.Tensor(77.48452, shape=(), dtype=float32)\n",
            "mse: tf.Tensor(19796.516, shape=(), dtype=float32)\n",
            "mape: tf.Tensor(390702720.0, shape=(), dtype=float32)\n"
          ]
        }
      ],
      "source": [
        "#prepare test2 for predict using split_sequence\n",
        "x_test2, y_test2 = split_sequence(test2, look_back=LOOK_BACK, forecast_horizon=FORECAST_RANGE)\n",
        "#predict on test2\n",
        "yhat = new_model_stop.predict(x_test2, verbose=0)\n",
        "yhat_inverse, y_test_inverse = inverse_transform(y_test2, yhat)\n",
        "evaluate_forecast(y_test_inverse, yhat_inverse)\n",
        "\n",
        "\n"
      ]
    },
    {
      "cell_type": "code",
      "execution_count": 41,
      "metadata": {},
      "outputs": [
        {
          "name": "stdout",
          "output_type": "stream",
          "text": [
            "(159, 6, 30)\n",
            "(159, 1, 30)\n"
          ]
        }
      ],
      "source": [
        "print(x_test2.shape)\n",
        "print(y_test2.shape)"
      ]
    },
    {
      "cell_type": "code",
      "execution_count": 36,
      "metadata": {},
      "outputs": [
        {
          "name": "stdout",
          "output_type": "stream",
          "text": [
            "(159, 180)\n"
          ]
        }
      ],
      "source": [
        "#convert x_test2 from 3d array to 2d array\n",
        "x_test2 = x_test2.reshape((x_test2.shape[0], x_test2.shape[1] * x_test2.shape[2]))\n",
        "print(x_test2.shape)"
      ]
    },
    {
      "cell_type": "code",
      "execution_count": 17,
      "metadata": {},
      "outputs": [
        {
          "data": {
            "text/plain": [
              "array([[[ 0.3056625 ,  0.23215991,  1.2370276 , ...,  0.0201186 ,\n",
              "          0.00797239,  0.07535709]],\n",
              "\n",
              "       [[ 0.2712811 ,  0.06535969,  1.0291069 , ..., -0.00316954,\n",
              "          0.0056748 , -0.08730485]],\n",
              "\n",
              "       [[ 0.20258322,  0.09058561,  0.95129424, ..., -0.00530963,\n",
              "          0.0091281 ,  0.0114034 ]],\n",
              "\n",
              "       ...,\n",
              "\n",
              "       [[ 0.78716373, -0.13171768,  0.8103206 , ..., -0.02368183,\n",
              "          0.0095648 ,  0.875703  ]],\n",
              "\n",
              "       [[ 0.96636075, -0.16159508,  0.96571714, ..., -0.02656214,\n",
              "          0.00711047,  1.1742175 ]],\n",
              "\n",
              "       [[ 1.0857854 , -0.11674834,  0.9818517 , ..., -0.02470803,\n",
              "          0.00936075,  1.4690292 ]]], dtype=float32)"
            ]
          },
          "execution_count": 17,
          "metadata": {},
          "output_type": "execute_result"
        }
      ],
      "source": [
        "yhat"
      ]
    },
    {
      "cell_type": "code",
      "execution_count": 18,
      "metadata": {},
      "outputs": [
        {
          "data": {
            "text/plain": [
              "array([[ 7.03023767e+00,  5.10751820e+00,  5.07700233e+01, ...,\n",
              "         1.40830189e-01,  1.19585842e-01,  1.13035643e+00],\n",
              "       [ 6.23946524e+00,  1.43791318e+00,  4.30769539e+01, ...,\n",
              "        -2.21867487e-02,  8.51220116e-02, -1.30957270e+00],\n",
              "       [ 4.65941429e+00,  1.99288344e+00,  4.01978874e+01, ...,\n",
              "        -3.71673778e-02,  1.36921450e-01,  1.71050951e-01],\n",
              "       ...,\n",
              "       [ 1.81047668e+01, -2.89778900e+00,  3.49818611e+01, ...,\n",
              "        -1.65772811e-01,  1.43471956e-01,  1.31355448e+01],\n",
              "       [ 2.22262974e+01, -3.55509162e+00,  4.07315331e+01, ...,\n",
              "        -1.85934946e-01,  1.06657065e-01,  1.76132622e+01],\n",
              "       [ 2.49730644e+01, -2.56846356e+00,  4.13285141e+01, ...,\n",
              "        -1.72956228e-01,  1.40411213e-01,  2.20354385e+01]], dtype=float32)"
            ]
          },
          "execution_count": 18,
          "metadata": {},
          "output_type": "execute_result"
        }
      ],
      "source": [
        "yhat_inverse"
      ]
    },
    {
      "cell_type": "code",
      "execution_count": 19,
      "metadata": {},
      "outputs": [
        {
          "data": {
            "text/plain": [
              "array([[ 1.6169547e+02,  1.1236540e+02,  1.8834908e+03, ...,\n",
              "         9.8581135e-01,  1.7937876e+00,  1.6955347e+01],\n",
              "       [ 1.4350771e+02,  3.1634090e+01,  1.5988473e+03, ...,\n",
              "        -1.5530723e-01,  1.2768302e+00, -1.9643591e+01],\n",
              "       [ 1.0716653e+02,  4.3843437e+01,  1.4923219e+03, ...,\n",
              "        -2.6017165e-01,  2.0538218e+00,  2.5657642e+00],\n",
              "       ...,\n",
              "       [ 4.1640964e+02, -6.3751358e+01,  1.2993289e+03, ...,\n",
              "        -1.1604097e+00,  2.1520793e+00,  1.9703317e+02],\n",
              "       [ 5.1120483e+02, -7.8212013e+01,  1.5120668e+03, ...,\n",
              "        -1.3015447e+00,  1.5998560e+00,  2.6419894e+02],\n",
              "       [ 5.7438049e+02, -5.6506199e+01,  1.5341550e+03, ...,\n",
              "        -1.2106936e+00,  2.1061683e+00,  3.3053159e+02]], dtype=float32)"
            ]
          },
          "execution_count": 19,
          "metadata": {},
          "output_type": "execute_result"
        }
      ],
      "source": [
        "#descaling yhat_inverse\n",
        "yhat_inverse = scaler.inverse_transform(yhat_inverse)\n",
        "yhat_inverse"
      ]
    },
    {
      "cell_type": "code",
      "execution_count": null,
      "metadata": {},
      "outputs": [],
      "source": [
        "#denormalizing yhat_inverse\n"
      ]
    }
  ],
  "metadata": {
    "colab": {
      "provenance": []
    },
    "kernelspec": {
      "display_name": "neuralenv",
      "language": "python",
      "name": "python3"
    },
    "language_info": {
      "codemirror_mode": {
        "name": "ipython",
        "version": 3
      },
      "file_extension": ".py",
      "mimetype": "text/x-python",
      "name": "python",
      "nbconvert_exporter": "python",
      "pygments_lexer": "ipython3",
      "version": "3.10.9"
    },
    "vscode": {
      "interpreter": {
        "hash": "2095dad001f56cb444702e9ce98118c9316c0e07b9868cfd27332b7e19c17f72"
      }
    }
  },
  "nbformat": 4,
  "nbformat_minor": 0
}
